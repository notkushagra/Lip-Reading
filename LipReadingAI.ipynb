{
 "cells": [
  {
   "cell_type": "code",
   "execution_count": 1,
   "metadata": {
    "id": "f0bqS9xOjQgR"
   },
   "outputs": [
    {
     "name": "stdout",
     "output_type": "stream",
     "text": [
      "Collecting matplotlib==3.6.2\n",
      "  Downloading matplotlib-3.6.2-cp39-cp39-win_amd64.whl (7.2 MB)\n",
      "     ---------------------------------------- 7.2/7.2 MB 65.1 kB/s eta 0:00:00\n",
      "Requirement already satisfied: fonttools>=4.22.0 in c:\\users\\31kus\\anaconda3\\lib\\site-packages (from matplotlib==3.6.2) (4.34.4)\n",
      "Requirement already satisfied: kiwisolver>=1.0.1 in c:\\users\\31kus\\anaconda3\\lib\\site-packages (from matplotlib==3.6.2) (1.4.4)\n",
      "Collecting pyparsing>=2.2.1\n",
      "  Downloading pyparsing-3.0.9-py3-none-any.whl (98 kB)\n",
      "     --------------------------------------- 98.3/98.3 kB 98.9 kB/s eta 0:00:00\n",
      "Requirement already satisfied: pillow>=6.2.0 in c:\\users\\31kus\\anaconda3\\lib\\site-packages (from matplotlib==3.6.2) (9.3.0)\n",
      "Requirement already satisfied: python-dateutil>=2.7 in c:\\users\\31kus\\anaconda3\\lib\\site-packages (from matplotlib==3.6.2) (2.8.2)\n",
      "Requirement already satisfied: numpy>=1.19 in c:\\users\\31kus\\anaconda3\\lib\\site-packages (from matplotlib==3.6.2) (1.23.5)\n",
      "Requirement already satisfied: packaging>=20.0 in c:\\users\\31kus\\anaconda3\\lib\\site-packages (from matplotlib==3.6.2) (22.0)\n",
      "Collecting contourpy>=1.0.1\n",
      "  Downloading contourpy-1.0.7-cp39-cp39-win_amd64.whl (160 kB)\n",
      "     ------------------------------------- 160.2/160.2 kB 36.4 kB/s eta 0:00:00\n",
      "Requirement already satisfied: cycler>=0.10 in c:\\users\\31kus\\anaconda3\\lib\\site-packages (from matplotlib==3.6.2) (0.11.0)\n",
      "Requirement already satisfied: six>=1.5 in c:\\users\\31kus\\anaconda3\\lib\\site-packages (from python-dateutil>=2.7->matplotlib==3.6.2) (1.16.0)\n",
      "Installing collected packages: pyparsing, contourpy, matplotlib\n",
      "  Attempting uninstall: matplotlib\n",
      "    Found existing installation: matplotlib 3.5.2\n",
      "    Uninstalling matplotlib-3.5.2:\n",
      "      Successfully uninstalled matplotlib-3.5.2\n",
      "Successfully installed contourpy-1.0.7 matplotlib-3.6.2 pyparsing-3.0.9\n"
     ]
    },
    {
     "name": "stderr",
     "output_type": "stream",
     "text": [
      "WARNING: Ignoring invalid distribution -rotobuf (c:\\users\\31kus\\anaconda3\\lib\\site-packages)\n",
      "WARNING: Ignoring invalid distribution -rotobuf (c:\\users\\31kus\\anaconda3\\lib\\site-packages)\n",
      "WARNING: Ignoring invalid distribution -rotobuf (c:\\users\\31kus\\anaconda3\\lib\\site-packages)\n",
      "    WARNING: Ignoring invalid distribution -rotobuf (c:\\users\\31kus\\anaconda3\\lib\\site-packages)\n",
      "WARNING: Ignoring invalid distribution -rotobuf (c:\\users\\31kus\\anaconda3\\lib\\site-packages)\n",
      "WARNING: Ignoring invalid distribution -rotobuf (c:\\users\\31kus\\anaconda3\\lib\\site-packages)\n",
      "WARNING: Ignoring invalid distribution -rotobuf (c:\\users\\31kus\\anaconda3\\lib\\site-packages)\n",
      "ERROR: pip's dependency resolver does not currently take into account all the packages that are installed. This behaviour is the source of the following dependency conflicts.\n",
      "tensorflow-object-detection-api 0.1.1 requires contextlib2, which is not installed.\n",
      "tensorflow-object-detection-api 0.1.1 requires Cython>=0.28.1, which is not installed.\n",
      "tensorflow-object-detection-api 0.1.1 requires jupyter, which is not installed.\n",
      "WARNING: Ignoring invalid distribution -rotobuf (c:\\users\\31kus\\anaconda3\\lib\\site-packages)\n",
      "WARNING: Ignoring invalid distribution -rotobuf (c:\\users\\31kus\\anaconda3\\lib\\site-packages)\n",
      "WARNING: Ignoring invalid distribution -rotobuf (c:\\users\\31kus\\anaconda3\\lib\\site-packages)\n"
     ]
    },
    {
     "name": "stdout",
     "output_type": "stream",
     "text": [
      "Collecting tensorflow==2.10.1\n",
      "  Downloading tensorflow-2.10.1-cp39-cp39-win_amd64.whl (455.9 MB)\n",
      "     -------                               98.3/455.9 MB 140.1 kB/s eta 0:42:32\n"
     ]
    },
    {
     "name": "stderr",
     "output_type": "stream",
     "text": [
      "WARNING: Ignoring invalid distribution -rotobuf (c:\\users\\31kus\\anaconda3\\lib\\site-packages)\n",
      "WARNING: Ignoring invalid distribution -rotobuf (c:\\users\\31kus\\anaconda3\\lib\\site-packages)\n",
      "ERROR: Exception:\n",
      "Traceback (most recent call last):\n",
      "  File \"C:\\Users\\31kus\\anaconda3\\lib\\site-packages\\pip\\_vendor\\urllib3\\response.py\", line 437, in _error_catcher\n",
      "    yield\n",
      "  File \"C:\\Users\\31kus\\anaconda3\\lib\\site-packages\\pip\\_vendor\\urllib3\\response.py\", line 560, in read\n",
      "    data = self._fp_read(amt) if not fp_closed else b\"\"\n",
      "  File \"C:\\Users\\31kus\\anaconda3\\lib\\site-packages\\pip\\_vendor\\urllib3\\response.py\", line 526, in _fp_read\n",
      "    return self._fp.read(amt) if amt is not None else self._fp.read()\n",
      "  File \"C:\\Users\\31kus\\anaconda3\\lib\\site-packages\\pip\\_vendor\\cachecontrol\\filewrapper.py\", line 90, in read\n",
      "    data = self.__fp.read(amt)\n",
      "  File \"C:\\Users\\31kus\\anaconda3\\lib\\http\\client.py\", line 463, in read\n",
      "    n = self.readinto(b)\n",
      "  File \"C:\\Users\\31kus\\anaconda3\\lib\\http\\client.py\", line 507, in readinto\n",
      "    n = self.fp.readinto(b)\n",
      "  File \"C:\\Users\\31kus\\anaconda3\\lib\\socket.py\", line 704, in readinto\n",
      "    return self._sock.recv_into(b)\n",
      "  File \"C:\\Users\\31kus\\anaconda3\\lib\\ssl.py\", line 1242, in recv_into\n",
      "    return self.read(nbytes, buffer)\n",
      "  File \"C:\\Users\\31kus\\anaconda3\\lib\\ssl.py\", line 1100, in read\n",
      "    return self._sslobj.read(len, buffer)\n",
      "socket.timeout: The read operation timed out\n",
      "\n",
      "During handling of the above exception, another exception occurred:\n",
      "\n",
      "Traceback (most recent call last):\n",
      "  File \"C:\\Users\\31kus\\anaconda3\\lib\\site-packages\\pip\\_internal\\cli\\base_command.py\", line 160, in exc_logging_wrapper\n",
      "    status = run_func(*args)\n",
      "  File \"C:\\Users\\31kus\\anaconda3\\lib\\site-packages\\pip\\_internal\\cli\\req_command.py\", line 247, in wrapper\n",
      "    return func(self, options, args)\n",
      "  File \"C:\\Users\\31kus\\anaconda3\\lib\\site-packages\\pip\\_internal\\commands\\install.py\", line 400, in run\n",
      "    requirement_set = resolver.resolve(\n",
      "  File \"C:\\Users\\31kus\\anaconda3\\lib\\site-packages\\pip\\_internal\\resolution\\resolvelib\\resolver.py\", line 92, in resolve\n",
      "    result = self._result = resolver.resolve(\n",
      "  File \"C:\\Users\\31kus\\anaconda3\\lib\\site-packages\\pip\\_vendor\\resolvelib\\resolvers.py\", line 481, in resolve\n",
      "    state = resolution.resolve(requirements, max_rounds=max_rounds)\n",
      "  File \"C:\\Users\\31kus\\anaconda3\\lib\\site-packages\\pip\\_vendor\\resolvelib\\resolvers.py\", line 348, in resolve\n",
      "    self._add_to_criteria(self.state.criteria, r, parent=None)\n",
      "  File \"C:\\Users\\31kus\\anaconda3\\lib\\site-packages\\pip\\_vendor\\resolvelib\\resolvers.py\", line 172, in _add_to_criteria\n",
      "    if not criterion.candidates:\n",
      "  File \"C:\\Users\\31kus\\anaconda3\\lib\\site-packages\\pip\\_vendor\\resolvelib\\structs.py\", line 151, in __bool__\n",
      "    return bool(self._sequence)\n",
      "  File \"C:\\Users\\31kus\\anaconda3\\lib\\site-packages\\pip\\_internal\\resolution\\resolvelib\\found_candidates.py\", line 155, in __bool__\n",
      "    return any(self)\n",
      "  File \"C:\\Users\\31kus\\anaconda3\\lib\\site-packages\\pip\\_internal\\resolution\\resolvelib\\found_candidates.py\", line 143, in <genexpr>\n",
      "    return (c for c in iterator if id(c) not in self._incompatible_ids)\n",
      "  File \"C:\\Users\\31kus\\anaconda3\\lib\\site-packages\\pip\\_internal\\resolution\\resolvelib\\found_candidates.py\", line 47, in _iter_built\n",
      "    candidate = func()\n",
      "  File \"C:\\Users\\31kus\\anaconda3\\lib\\site-packages\\pip\\_internal\\resolution\\resolvelib\\factory.py\", line 206, in _make_candidate_from_link\n",
      "    self._link_candidate_cache[link] = LinkCandidate(\n",
      "  File \"C:\\Users\\31kus\\anaconda3\\lib\\site-packages\\pip\\_internal\\resolution\\resolvelib\\candidates.py\", line 297, in __init__\n",
      "    super().__init__(\n",
      "  File \"C:\\Users\\31kus\\anaconda3\\lib\\site-packages\\pip\\_internal\\resolution\\resolvelib\\candidates.py\", line 162, in __init__\n",
      "    self.dist = self._prepare()\n",
      "  File \"C:\\Users\\31kus\\anaconda3\\lib\\site-packages\\pip\\_internal\\resolution\\resolvelib\\candidates.py\", line 231, in _prepare\n",
      "    dist = self._prepare_distribution()\n",
      "  File \"C:\\Users\\31kus\\anaconda3\\lib\\site-packages\\pip\\_internal\\resolution\\resolvelib\\candidates.py\", line 308, in _prepare_distribution\n",
      "    return preparer.prepare_linked_requirement(self._ireq, parallel_builds=True)\n",
      "  File \"C:\\Users\\31kus\\anaconda3\\lib\\site-packages\\pip\\_internal\\operations\\prepare.py\", line 491, in prepare_linked_requirement\n",
      "    return self._prepare_linked_requirement(req, parallel_builds)\n",
      "  File \"C:\\Users\\31kus\\anaconda3\\lib\\site-packages\\pip\\_internal\\operations\\prepare.py\", line 536, in _prepare_linked_requirement\n",
      "    local_file = unpack_url(\n",
      "  File \"C:\\Users\\31kus\\anaconda3\\lib\\site-packages\\pip\\_internal\\operations\\prepare.py\", line 166, in unpack_url\n",
      "    file = get_http_url(\n",
      "  File \"C:\\Users\\31kus\\anaconda3\\lib\\site-packages\\pip\\_internal\\operations\\prepare.py\", line 107, in get_http_url\n",
      "    from_path, content_type = download(link, temp_dir.path)\n",
      "  File \"C:\\Users\\31kus\\anaconda3\\lib\\site-packages\\pip\\_internal\\network\\download.py\", line 147, in __call__\n",
      "    for chunk in chunks:\n",
      "  File \"C:\\Users\\31kus\\anaconda3\\lib\\site-packages\\pip\\_internal\\cli\\progress_bars.py\", line 53, in _rich_progress_bar\n",
      "    for chunk in iterable:\n",
      "  File \"C:\\Users\\31kus\\anaconda3\\lib\\site-packages\\pip\\_internal\\network\\utils.py\", line 63, in response_chunks\n",
      "    for chunk in response.raw.stream(\n",
      "  File \"C:\\Users\\31kus\\anaconda3\\lib\\site-packages\\pip\\_vendor\\urllib3\\response.py\", line 621, in stream\n",
      "    data = self.read(amt=amt, decode_content=decode_content)\n",
      "  File \"C:\\Users\\31kus\\anaconda3\\lib\\site-packages\\pip\\_vendor\\urllib3\\response.py\", line 586, in read\n",
      "    raise IncompleteRead(self._fp_bytes_read, self.length_remaining)\n",
      "  File \"C:\\Users\\31kus\\anaconda3\\lib\\contextlib.py\", line 137, in __exit__\n",
      "    self.gen.throw(typ, value, traceback)\n",
      "  File \"C:\\Users\\31kus\\anaconda3\\lib\\site-packages\\pip\\_vendor\\urllib3\\response.py\", line 442, in _error_catcher\n",
      "    raise ReadTimeoutError(self._pool, None, \"Read timed out.\")\n",
      "pip._vendor.urllib3.exceptions.ReadTimeoutError: HTTPSConnectionPool(host='files.pythonhosted.org', port=443): Read timed out.\n",
      "WARNING: Ignoring invalid distribution -rotobuf (c:\\users\\31kus\\anaconda3\\lib\\site-packages)\n",
      "WARNING: Ignoring invalid distribution -rotobuf (c:\\users\\31kus\\anaconda3\\lib\\site-packages)\n",
      "WARNING: Ignoring invalid distribution -rotobuf (c:\\users\\31kus\\anaconda3\\lib\\site-packages)\n",
      "WARNING: Ignoring invalid distribution -rotobuf (c:\\users\\31kus\\anaconda3\\lib\\site-packages)\n",
      "WARNING: Ignoring invalid distribution -rotobuf (c:\\users\\31kus\\anaconda3\\lib\\site-packages)\n",
      "WARNING: Ignoring invalid distribution -rotobuf (c:\\users\\31kus\\anaconda3\\lib\\site-packages)\n",
      "WARNING: Ignoring invalid distribution -rotobuf (c:\\users\\31kus\\anaconda3\\lib\\site-packages)\n",
      "WARNING: Ignoring invalid distribution -rotobuf (c:\\users\\31kus\\anaconda3\\lib\\site-packages)\n",
      "WARNING: Ignoring invalid distribution -rotobuf (c:\\users\\31kus\\anaconda3\\lib\\site-packages)\n"
     ]
    },
    {
     "name": "stdout",
     "output_type": "stream",
     "text": [
      "Requirement already satisfied: opencv-python==4.6.0.66 in c:\\users\\31kus\\anaconda3\\lib\\site-packages (4.6.0.66)\n",
      "Requirement already satisfied: numpy>=1.14.5 in c:\\users\\31kus\\anaconda3\\lib\\site-packages (from opencv-python==4.6.0.66) (1.23.5)\n",
      "Collecting imageio==2.23.0\n",
      "  Downloading imageio-2.23.0-py3-none-any.whl (3.4 MB)\n",
      "     ---------------------------------------- 3.4/3.4 MB 4.9 MB/s eta 0:00:00\n",
      "Requirement already satisfied: pillow>=8.3.2 in c:\\users\\31kus\\anaconda3\\lib\\site-packages (from imageio==2.23.0) (9.3.0)\n",
      "Requirement already satisfied: numpy in c:\\users\\31kus\\anaconda3\\lib\\site-packages (from imageio==2.23.0) (1.23.5)\n",
      "Installing collected packages: imageio\n",
      "Successfully installed imageio-2.23.0\n"
     ]
    },
    {
     "name": "stderr",
     "output_type": "stream",
     "text": [
      "WARNING: Ignoring invalid distribution -rotobuf (c:\\users\\31kus\\anaconda3\\lib\\site-packages)\n",
      "WARNING: Ignoring invalid distribution -rotobuf (c:\\users\\31kus\\anaconda3\\lib\\site-packages)\n",
      "WARNING: Ignoring invalid distribution -rotobuf (c:\\users\\31kus\\anaconda3\\lib\\site-packages)\n",
      "WARNING: Ignoring invalid distribution -rotobuf (c:\\users\\31kus\\anaconda3\\lib\\site-packages)\n",
      "WARNING: Ignoring invalid distribution -rotobuf (c:\\users\\31kus\\anaconda3\\lib\\site-packages)\n",
      "WARNING: Ignoring invalid distribution -rotobuf (c:\\users\\31kus\\anaconda3\\lib\\site-packages)\n",
      "WARNING: Ignoring invalid distribution -rotobuf (c:\\users\\31kus\\anaconda3\\lib\\site-packages)\n"
     ]
    },
    {
     "name": "stdout",
     "output_type": "stream",
     "text": [
      "Requirement already satisfied: gdown==4.6.0 in c:\\users\\31kus\\anaconda3\\lib\\site-packages (4.6.0)\n",
      "Requirement already satisfied: beautifulsoup4 in c:\\users\\31kus\\anaconda3\\lib\\site-packages (from gdown==4.6.0) (4.11.1)\n",
      "Requirement already satisfied: filelock in c:\\users\\31kus\\anaconda3\\lib\\site-packages (from gdown==4.6.0) (3.9.0)\n",
      "Requirement already satisfied: six in c:\\users\\31kus\\anaconda3\\lib\\site-packages (from gdown==4.6.0) (1.16.0)\n",
      "Requirement already satisfied: requests[socks] in c:\\users\\31kus\\anaconda3\\lib\\site-packages (from gdown==4.6.0) (2.28.1)\n",
      "Requirement already satisfied: tqdm in c:\\users\\31kus\\anaconda3\\lib\\site-packages (from gdown==4.6.0) (4.64.1)\n",
      "Requirement already satisfied: soupsieve>1.2 in c:\\users\\31kus\\anaconda3\\lib\\site-packages (from beautifulsoup4->gdown==4.6.0) (2.3.2.post1)\n",
      "Requirement already satisfied: idna<4,>=2.5 in c:\\users\\31kus\\anaconda3\\lib\\site-packages (from requests[socks]->gdown==4.6.0) (3.4)\n",
      "Requirement already satisfied: charset-normalizer<3,>=2 in c:\\users\\31kus\\anaconda3\\lib\\site-packages (from requests[socks]->gdown==4.6.0) (2.0.12)\n",
      "Requirement already satisfied: certifi>=2017.4.17 in c:\\users\\31kus\\anaconda3\\lib\\site-packages (from requests[socks]->gdown==4.6.0) (2022.12.7)\n",
      "Requirement already satisfied: urllib3<1.27,>=1.21.1 in c:\\users\\31kus\\anaconda3\\lib\\site-packages (from requests[socks]->gdown==4.6.0) (1.26.14)\n",
      "Requirement already satisfied: PySocks!=1.5.7,>=1.5.6 in c:\\users\\31kus\\anaconda3\\lib\\site-packages (from requests[socks]->gdown==4.6.0) (1.7.1)\n",
      "Requirement already satisfied: colorama in c:\\users\\31kus\\anaconda3\\lib\\site-packages (from tqdm->gdown==4.6.0) (0.4.6)\n"
     ]
    },
    {
     "name": "stderr",
     "output_type": "stream",
     "text": [
      "WARNING: Ignoring invalid distribution -rotobuf (c:\\users\\31kus\\anaconda3\\lib\\site-packages)\n",
      "WARNING: Ignoring invalid distribution -rotobuf (c:\\users\\31kus\\anaconda3\\lib\\site-packages)\n",
      "WARNING: Ignoring invalid distribution -rotobuf (c:\\users\\31kus\\anaconda3\\lib\\site-packages)\n",
      "WARNING: Ignoring invalid distribution -rotobuf (c:\\users\\31kus\\anaconda3\\lib\\site-packages)\n",
      "WARNING: Ignoring invalid distribution -rotobuf (c:\\users\\31kus\\anaconda3\\lib\\site-packages)\n",
      "WARNING: Ignoring invalid distribution -rotobuf (c:\\users\\31kus\\anaconda3\\lib\\site-packages)\n"
     ]
    }
   ],
   "source": [
    "!pip install matplotlib==3.6.2\n",
    "!pip install tensorflow==2.10.1\n",
    "!pip install opencv-python==4.6.0.66\n",
    "!pip install imageio==2.23.0\n",
    "!pip install gdown==4.6.0"
   ]
  },
  {
   "cell_type": "markdown",
   "metadata": {
    "id": "MUtt-eo6PyBB"
   },
   "source": [
    "# Lip Reading AI"
   ]
  },
  {
   "cell_type": "markdown",
   "metadata": {
    "id": "rzSdZKWDP6Zc"
   },
   "source": [
    "## 0. Import Dependencies"
   ]
  },
  {
   "cell_type": "code",
   "execution_count": 2,
   "metadata": {
    "id": "Ccyx3D45Qxc2"
   },
   "outputs": [],
   "source": [
    "import os\n",
    "import cv2\n",
    "import tensorflow as tf\n",
    "import numpy as np\n",
    "from typing import List\n",
    "import matplotlib.pyplot as plt\n",
    "import matplotlib\n",
    "import imageio"
   ]
  },
  {
   "cell_type": "code",
   "execution_count": 5,
   "metadata": {},
   "outputs": [
    {
     "data": {
      "text/plain": [
       "[]"
      ]
     },
     "execution_count": 5,
     "metadata": {},
     "output_type": "execute_result"
    }
   ],
   "source": [
    "tf.config.list_physical_devices('GPU')"
   ]
  },
  {
   "cell_type": "code",
   "execution_count": 3,
   "metadata": {
    "id": "J-KOlhOoRlaR"
   },
   "outputs": [],
   "source": [
    "#prevent exponential growth\n",
    "physical_devices = tf.config.list_physical_devices('GPU')\n",
    "try:\n",
    "  tf.config.experimental.set_memory_growth(physical_devices[0],True)\n",
    "except:\n",
    "  pass"
   ]
  },
  {
   "cell_type": "markdown",
   "metadata": {
    "id": "kqB6TKmKQsFX"
   },
   "source": [
    "## 1. Build Data Loading Functions"
   ]
  },
  {
   "cell_type": "code",
   "execution_count": 7,
   "metadata": {
    "id": "bGu-_SQASPJT"
   },
   "outputs": [],
   "source": [
    "import gdown"
   ]
  },
  {
   "cell_type": "code",
   "execution_count": 8,
   "metadata": {
    "id": "oJLkSBGLSSOF"
   },
   "outputs": [
    {
     "data": {
      "text/plain": [
       "['.\\\\data/',\n",
       " '.\\\\data/alignments/',\n",
       " '.\\\\data/alignments/s1/',\n",
       " '.\\\\data/alignments/s1/bbaf2n.align',\n",
       " '.\\\\data/alignments/s1/bbaf3s.align',\n",
       " '.\\\\data/alignments/s1/bbaf4p.align',\n",
       " '.\\\\data/alignments/s1/bbaf5a.align',\n",
       " '.\\\\data/alignments/s1/bbal6n.align',\n",
       " '.\\\\data/alignments/s1/bbal7s.align',\n",
       " '.\\\\data/alignments/s1/bbal8p.align',\n",
       " '.\\\\data/alignments/s1/bbal9a.align',\n",
       " '.\\\\data/alignments/s1/bbas1s.align',\n",
       " '.\\\\data/alignments/s1/bbas2p.align',\n",
       " '.\\\\data/alignments/s1/bbas3a.align',\n",
       " '.\\\\data/alignments/s1/bbaszn.align',\n",
       " '.\\\\data/alignments/s1/bbaz4n.align',\n",
       " '.\\\\data/alignments/s1/bbaz5s.align',\n",
       " '.\\\\data/alignments/s1/bbaz6p.align',\n",
       " '.\\\\data/alignments/s1/bbaz7a.align',\n",
       " '.\\\\data/alignments/s1/bbbf6n.align',\n",
       " '.\\\\data/alignments/s1/bbbf7s.align',\n",
       " '.\\\\data/alignments/s1/bbbf8p.align',\n",
       " '.\\\\data/alignments/s1/bbbf9a.align',\n",
       " '.\\\\data/alignments/s1/bbbm1s.align',\n",
       " '.\\\\data/alignments/s1/bbbm2p.align',\n",
       " '.\\\\data/alignments/s1/bbbm3a.align',\n",
       " '.\\\\data/alignments/s1/bbbmzn.align',\n",
       " '.\\\\data/alignments/s1/bbbs4n.align',\n",
       " '.\\\\data/alignments/s1/bbbs5s.align',\n",
       " '.\\\\data/alignments/s1/bbbs6p.align',\n",
       " '.\\\\data/alignments/s1/bbbs7a.align',\n",
       " '.\\\\data/alignments/s1/bbbz8n.align',\n",
       " '.\\\\data/alignments/s1/bbbz9s.align',\n",
       " '.\\\\data/alignments/s1/bbie8n.align',\n",
       " '.\\\\data/alignments/s1/bbie9s.align',\n",
       " '.\\\\data/alignments/s1/bbif1a.align',\n",
       " '.\\\\data/alignments/s1/bbifzp.align',\n",
       " '.\\\\data/alignments/s1/bbil2n.align',\n",
       " '.\\\\data/alignments/s1/bbil3s.align',\n",
       " '.\\\\data/alignments/s1/bbil4p.align',\n",
       " '.\\\\data/alignments/s1/bbil5a.align',\n",
       " '.\\\\data/alignments/s1/bbir6n.align',\n",
       " '.\\\\data/alignments/s1/bbir7s.align',\n",
       " '.\\\\data/alignments/s1/bbir8p.align',\n",
       " '.\\\\data/alignments/s1/bbir9a.align',\n",
       " '.\\\\data/alignments/s1/bbiz1s.align',\n",
       " '.\\\\data/alignments/s1/bbiz2p.align',\n",
       " '.\\\\data/alignments/s1/bbiz3a.align',\n",
       " '.\\\\data/alignments/s1/bbizzn.align',\n",
       " '.\\\\data/alignments/s1/bbwg1s.align',\n",
       " '.\\\\data/alignments/s1/bbwg2p.align',\n",
       " '.\\\\data/alignments/s1/bbwg3a.align',\n",
       " '.\\\\data/alignments/s1/bbwgzn.align',\n",
       " '.\\\\data/alignments/s1/bbwm4n.align',\n",
       " '.\\\\data/alignments/s1/bbwm5s.align',\n",
       " '.\\\\data/alignments/s1/bbwm6p.align',\n",
       " '.\\\\data/alignments/s1/bbwm7a.align',\n",
       " '.\\\\data/alignments/s1/bbws8n.align',\n",
       " '.\\\\data/alignments/s1/bbws9s.align',\n",
       " '.\\\\data/alignments/s1/bbwt1a.align',\n",
       " '.\\\\data/alignments/s1/bbwtzp.align',\n",
       " '.\\\\data/alignments/s1/bgaa6n.align',\n",
       " '.\\\\data/alignments/s1/bgaa7s.align',\n",
       " '.\\\\data/alignments/s1/bgaa8p.align',\n",
       " '.\\\\data/alignments/s1/bgaa9a.align',\n",
       " '.\\\\data/alignments/s1/bgah1s.align',\n",
       " '.\\\\data/alignments/s1/bgah2p.align',\n",
       " '.\\\\data/alignments/s1/bgah3a.align',\n",
       " '.\\\\data/alignments/s1/bgahzn.align',\n",
       " '.\\\\data/alignments/s1/bgan4n.align',\n",
       " '.\\\\data/alignments/s1/bgan5s.align',\n",
       " '.\\\\data/alignments/s1/bgan6p.align',\n",
       " '.\\\\data/alignments/s1/bgan7a.align',\n",
       " '.\\\\data/alignments/s1/bgat8n.align',\n",
       " '.\\\\data/alignments/s1/bgat9s.align',\n",
       " '.\\\\data/alignments/s1/bgau1a.align',\n",
       " '.\\\\data/alignments/s1/bgauzp.align',\n",
       " '.\\\\data/alignments/s1/bgbb1s.align',\n",
       " '.\\\\data/alignments/s1/bgbb2p.align',\n",
       " '.\\\\data/alignments/s1/bgbb3a.align',\n",
       " '.\\\\data/alignments/s1/bgbbzn.align',\n",
       " '.\\\\data/alignments/s1/bgbh4n.align',\n",
       " '.\\\\data/alignments/s1/bgbh5s.align',\n",
       " '.\\\\data/alignments/s1/bgbh6p.align',\n",
       " '.\\\\data/alignments/s1/bgbh7a.align',\n",
       " '.\\\\data/alignments/s1/bgbn8n.align',\n",
       " '.\\\\data/alignments/s1/bgbn9s.align',\n",
       " '.\\\\data/alignments/s1/bgbo1a.align',\n",
       " '.\\\\data/alignments/s1/bgbozp.align',\n",
       " '.\\\\data/alignments/s1/bgbu2n.align',\n",
       " '.\\\\data/alignments/s1/bgbu3s.align',\n",
       " '.\\\\data/alignments/s1/bgbu4p.align',\n",
       " '.\\\\data/alignments/s1/bgbu5a.align',\n",
       " '.\\\\data/alignments/s1/bgia2n.align',\n",
       " '.\\\\data/alignments/s1/bgia3s.align',\n",
       " '.\\\\data/alignments/s1/bgia4p.align',\n",
       " '.\\\\data/alignments/s1/bgia5a.align',\n",
       " '.\\\\data/alignments/s1/bgig6n.align',\n",
       " '.\\\\data/alignments/s1/bgig7s.align',\n",
       " '.\\\\data/alignments/s1/bgig8p.align',\n",
       " '.\\\\data/alignments/s1/bgig9a.align',\n",
       " '.\\\\data/alignments/s1/bgin1s.align',\n",
       " '.\\\\data/alignments/s1/bgin2p.align',\n",
       " '.\\\\data/alignments/s1/bgin3a.align',\n",
       " '.\\\\data/alignments/s1/bginzn.align',\n",
       " '.\\\\data/alignments/s1/bgit4n.align',\n",
       " '.\\\\data/alignments/s1/bgit5s.align',\n",
       " '.\\\\data/alignments/s1/bgit6p.align',\n",
       " '.\\\\data/alignments/s1/bgit7a.align',\n",
       " '.\\\\data/alignments/s1/bgwb4n.align',\n",
       " '.\\\\data/alignments/s1/bgwb5s.align',\n",
       " '.\\\\data/alignments/s1/bgwb6p.align',\n",
       " '.\\\\data/alignments/s1/bgwb7a.align',\n",
       " '.\\\\data/alignments/s1/bgwh8n.align',\n",
       " '.\\\\data/alignments/s1/bgwh9s.align',\n",
       " '.\\\\data/alignments/s1/bgwi1a.align',\n",
       " '.\\\\data/alignments/s1/bgwizp.align',\n",
       " '.\\\\data/alignments/s1/bgwo2n.align',\n",
       " '.\\\\data/alignments/s1/bgwo3s.align',\n",
       " '.\\\\data/alignments/s1/bgwo4p.align',\n",
       " '.\\\\data/alignments/s1/bgwo5a.align',\n",
       " '.\\\\data/alignments/s1/bgwu6n.align',\n",
       " '.\\\\data/alignments/s1/bgwu7s.align',\n",
       " '.\\\\data/alignments/s1/bgwu8p.align',\n",
       " '.\\\\data/alignments/s1/bgwu9a.align',\n",
       " '.\\\\data/alignments/s1/braf8n.align',\n",
       " '.\\\\data/alignments/s1/braf9s.align',\n",
       " '.\\\\data/alignments/s1/brag1a.align',\n",
       " '.\\\\data/alignments/s1/bragzp.align',\n",
       " '.\\\\data/alignments/s1/bram2n.align',\n",
       " '.\\\\data/alignments/s1/bram3s.align',\n",
       " '.\\\\data/alignments/s1/bram4p.align',\n",
       " '.\\\\data/alignments/s1/bram5a.align',\n",
       " '.\\\\data/alignments/s1/bras6n.align',\n",
       " '.\\\\data/alignments/s1/bras7s.align',\n",
       " '.\\\\data/alignments/s1/bras8p.align',\n",
       " '.\\\\data/alignments/s1/bras9a.align',\n",
       " '.\\\\data/alignments/s1/brba1a.align',\n",
       " '.\\\\data/alignments/s1/brbazp.align',\n",
       " '.\\\\data/alignments/s1/brbg2n.align',\n",
       " '.\\\\data/alignments/s1/brbg3s.align',\n",
       " '.\\\\data/alignments/s1/brbg4p.align',\n",
       " '.\\\\data/alignments/s1/brbg5a.align',\n",
       " '.\\\\data/alignments/s1/brbm6n.align',\n",
       " '.\\\\data/alignments/s1/brbm7s.align',\n",
       " '.\\\\data/alignments/s1/brbm8p.align',\n",
       " '.\\\\data/alignments/s1/brbm9a.align',\n",
       " '.\\\\data/alignments/s1/brbt1s.align',\n",
       " '.\\\\data/alignments/s1/brbt2p.align',\n",
       " '.\\\\data/alignments/s1/brbt3a.align',\n",
       " '.\\\\data/alignments/s1/brbtzn.align',\n",
       " '.\\\\data/alignments/s1/brif4n.align',\n",
       " '.\\\\data/alignments/s1/brif5s.align',\n",
       " '.\\\\data/alignments/s1/brif6p.align',\n",
       " '.\\\\data/alignments/s1/brif7a.align',\n",
       " '.\\\\data/alignments/s1/bril8n.align',\n",
       " '.\\\\data/alignments/s1/bril9s.align',\n",
       " '.\\\\data/alignments/s1/brim1a.align',\n",
       " '.\\\\data/alignments/s1/brimzp.align',\n",
       " '.\\\\data/alignments/s1/bris2n.align',\n",
       " '.\\\\data/alignments/s1/bris3s.align',\n",
       " '.\\\\data/alignments/s1/bris4p.align',\n",
       " '.\\\\data/alignments/s1/bris5a.align',\n",
       " '.\\\\data/alignments/s1/briz6n.align',\n",
       " '.\\\\data/alignments/s1/briz7s.align',\n",
       " '.\\\\data/alignments/s1/briz8p.align',\n",
       " '.\\\\data/alignments/s1/briz9a.align',\n",
       " '.\\\\data/alignments/s1/brwa2n.align',\n",
       " '.\\\\data/alignments/s1/brwa3s.align',\n",
       " '.\\\\data/alignments/s1/brwa4p.align',\n",
       " '.\\\\data/alignments/s1/brwa5a.align',\n",
       " '.\\\\data/alignments/s1/brwg6n.align',\n",
       " '.\\\\data/alignments/s1/brwg7s.align',\n",
       " '.\\\\data/alignments/s1/brwg8p.align',\n",
       " '.\\\\data/alignments/s1/brwg9a.align',\n",
       " '.\\\\data/alignments/s1/brwn1s.align',\n",
       " '.\\\\data/alignments/s1/brwn2p.align',\n",
       " '.\\\\data/alignments/s1/brwn3a.align',\n",
       " '.\\\\data/alignments/s1/brwnzn.align',\n",
       " '.\\\\data/alignments/s1/brwt4n.align',\n",
       " '.\\\\data/alignments/s1/brwt5s.align',\n",
       " '.\\\\data/alignments/s1/brwt6p.align',\n",
       " '.\\\\data/alignments/s1/brwt7a.align',\n",
       " '.\\\\data/alignments/s1/bwaa1s.align',\n",
       " '.\\\\data/alignments/s1/bwaa2p.align',\n",
       " '.\\\\data/alignments/s1/bwaa3a.align',\n",
       " '.\\\\data/alignments/s1/bwaazn.align',\n",
       " '.\\\\data/alignments/s1/bwag4n.align',\n",
       " '.\\\\data/alignments/s1/bwag5s.align',\n",
       " '.\\\\data/alignments/s1/bwag6p.align',\n",
       " '.\\\\data/alignments/s1/bwag7a.align',\n",
       " '.\\\\data/alignments/s1/bwam8n.align',\n",
       " '.\\\\data/alignments/s1/bwam9s.align',\n",
       " '.\\\\data/alignments/s1/bwan1a.align',\n",
       " '.\\\\data/alignments/s1/bwanzp.align',\n",
       " '.\\\\data/alignments/s1/bwat2n.align',\n",
       " '.\\\\data/alignments/s1/bwat3s.align',\n",
       " '.\\\\data/alignments/s1/bwat4p.align',\n",
       " '.\\\\data/alignments/s1/bwat5a.align',\n",
       " '.\\\\data/alignments/s1/bwba4n.align',\n",
       " '.\\\\data/alignments/s1/bwba5s.align',\n",
       " '.\\\\data/alignments/s1/bwba6p.align',\n",
       " '.\\\\data/alignments/s1/bwba7a.align',\n",
       " '.\\\\data/alignments/s1/bwbg8n.align',\n",
       " '.\\\\data/alignments/s1/bwbg9s.align',\n",
       " '.\\\\data/alignments/s1/bwbh1a.align',\n",
       " '.\\\\data/alignments/s1/bwbhzp.align',\n",
       " '.\\\\data/alignments/s1/bwbn2n.align',\n",
       " '.\\\\data/alignments/s1/bwbn3s.align',\n",
       " '.\\\\data/alignments/s1/bwbn4p.align',\n",
       " '.\\\\data/alignments/s1/bwbn5a.align',\n",
       " '.\\\\data/alignments/s1/bwbt6n.align',\n",
       " '.\\\\data/alignments/s1/bwbt7s.align',\n",
       " '.\\\\data/alignments/s1/bwbt8p.align',\n",
       " '.\\\\data/alignments/s1/bwbt9a.align',\n",
       " '.\\\\data/alignments/s1/bwig1s.align',\n",
       " '.\\\\data/alignments/s1/bwig2p.align',\n",
       " '.\\\\data/alignments/s1/bwig3a.align',\n",
       " '.\\\\data/alignments/s1/bwigzn.align',\n",
       " '.\\\\data/alignments/s1/bwim4n.align',\n",
       " '.\\\\data/alignments/s1/bwim5s.align',\n",
       " '.\\\\data/alignments/s1/bwim6p.align',\n",
       " '.\\\\data/alignments/s1/bwim7a.align',\n",
       " '.\\\\data/alignments/s1/bwis8n.align',\n",
       " '.\\\\data/alignments/s1/bwis9s.align',\n",
       " '.\\\\data/alignments/s1/bwit1a.align',\n",
       " '.\\\\data/alignments/s1/bwitzp.align',\n",
       " '.\\\\data/alignments/s1/bwwa8n.align',\n",
       " '.\\\\data/alignments/s1/bwwa9s.align',\n",
       " '.\\\\data/alignments/s1/bwwb1a.align',\n",
       " '.\\\\data/alignments/s1/bwwbzp.align',\n",
       " '.\\\\data/alignments/s1/bwwh2n.align',\n",
       " '.\\\\data/alignments/s1/bwwh3s.align',\n",
       " '.\\\\data/alignments/s1/bwwh4p.align',\n",
       " '.\\\\data/alignments/s1/bwwh5a.align',\n",
       " '.\\\\data/alignments/s1/bwwn6n.align',\n",
       " '.\\\\data/alignments/s1/bwwn7s.align',\n",
       " '.\\\\data/alignments/s1/bwwn8p.align',\n",
       " '.\\\\data/alignments/s1/bwwn9a.align',\n",
       " '.\\\\data/alignments/s1/bwwu1s.align',\n",
       " '.\\\\data/alignments/s1/bwwu2p.align',\n",
       " '.\\\\data/alignments/s1/bwwu3a.align',\n",
       " '.\\\\data/alignments/s1/bwwuzn.align',\n",
       " '.\\\\data/alignments/s1/lbad6n.align',\n",
       " '.\\\\data/alignments/s1/lbad7s.align',\n",
       " '.\\\\data/alignments/s1/lbad8p.align',\n",
       " '.\\\\data/alignments/s1/lbad9a.align',\n",
       " '.\\\\data/alignments/s1/lbak1s.align',\n",
       " '.\\\\data/alignments/s1/lbak2p.align',\n",
       " '.\\\\data/alignments/s1/lbak3a.align',\n",
       " '.\\\\data/alignments/s1/lbakzn.align',\n",
       " '.\\\\data/alignments/s1/lbaq4n.align',\n",
       " '.\\\\data/alignments/s1/lbaq5s.align',\n",
       " '.\\\\data/alignments/s1/lbaq6p.align',\n",
       " '.\\\\data/alignments/s1/lbaq7a.align',\n",
       " '.\\\\data/alignments/s1/lbax8n.align',\n",
       " '.\\\\data/alignments/s1/lbax9s.align',\n",
       " '.\\\\data/alignments/s1/lbay1a.align',\n",
       " '.\\\\data/alignments/s1/lbayzp.align',\n",
       " '.\\\\data/alignments/s1/lbbe1s.align',\n",
       " '.\\\\data/alignments/s1/lbbe2p.align',\n",
       " '.\\\\data/alignments/s1/lbbe3a.align',\n",
       " '.\\\\data/alignments/s1/lbbezn.align',\n",
       " '.\\\\data/alignments/s1/lbbk4n.align',\n",
       " '.\\\\data/alignments/s1/lbbk5s.align',\n",
       " '.\\\\data/alignments/s1/lbbk6p.align',\n",
       " '.\\\\data/alignments/s1/lbbk7a.align',\n",
       " '.\\\\data/alignments/s1/lbbq8n.align',\n",
       " '.\\\\data/alignments/s1/lbbq9s.align',\n",
       " '.\\\\data/alignments/s1/lbbr1a.align',\n",
       " '.\\\\data/alignments/s1/lbbrzp.align',\n",
       " '.\\\\data/alignments/s1/lbby2n.align',\n",
       " '.\\\\data/alignments/s1/lbby3s.align',\n",
       " '.\\\\data/alignments/s1/lbby4p.align',\n",
       " '.\\\\data/alignments/s1/lbby5a.align',\n",
       " '.\\\\data/alignments/s1/lbid2n.align',\n",
       " '.\\\\data/alignments/s1/lbid3s.align',\n",
       " '.\\\\data/alignments/s1/lbid4p.align',\n",
       " '.\\\\data/alignments/s1/lbid5a.align',\n",
       " '.\\\\data/alignments/s1/lbij6n.align',\n",
       " '.\\\\data/alignments/s1/lbij7s.align',\n",
       " '.\\\\data/alignments/s1/lbij8p.align',\n",
       " '.\\\\data/alignments/s1/lbij9a.align',\n",
       " '.\\\\data/alignments/s1/lbiq1s.align',\n",
       " '.\\\\data/alignments/s1/lbiq2p.align',\n",
       " '.\\\\data/alignments/s1/lbiq3a.align',\n",
       " '.\\\\data/alignments/s1/lbiqzn.align',\n",
       " '.\\\\data/alignments/s1/lbix4n.align',\n",
       " '.\\\\data/alignments/s1/lbix5s.align',\n",
       " '.\\\\data/alignments/s1/lbix6p.align',\n",
       " '.\\\\data/alignments/s1/lbix7a.align',\n",
       " '.\\\\data/alignments/s1/lbwe4n.align',\n",
       " '.\\\\data/alignments/s1/lbwe5s.align',\n",
       " '.\\\\data/alignments/s1/lbwe6p.align',\n",
       " '.\\\\data/alignments/s1/lbwe7a.align',\n",
       " '.\\\\data/alignments/s1/lbwk8n.align',\n",
       " '.\\\\data/alignments/s1/lbwk9s.align',\n",
       " '.\\\\data/alignments/s1/lbwl1a.align',\n",
       " '.\\\\data/alignments/s1/lbwlzp.align',\n",
       " '.\\\\data/alignments/s1/lbwr2n.align',\n",
       " '.\\\\data/alignments/s1/lbwr3s.align',\n",
       " '.\\\\data/alignments/s1/lbwr4p.align',\n",
       " '.\\\\data/alignments/s1/lbwr5a.align',\n",
       " '.\\\\data/alignments/s1/lbwy6n.align',\n",
       " '.\\\\data/alignments/s1/lbwy7s.align',\n",
       " '.\\\\data/alignments/s1/lbwy8p.align',\n",
       " '.\\\\data/alignments/s1/lbwy9a.align',\n",
       " '.\\\\data/alignments/s1/lgaf4n.align',\n",
       " '.\\\\data/alignments/s1/lgaf5s.align',\n",
       " '.\\\\data/alignments/s1/lgaf6p.align',\n",
       " '.\\\\data/alignments/s1/lgaf7a.align',\n",
       " '.\\\\data/alignments/s1/lgal8n.align',\n",
       " '.\\\\data/alignments/s1/lgal9s.align',\n",
       " '.\\\\data/alignments/s1/lgam1a.align',\n",
       " '.\\\\data/alignments/s1/lgamzp.align',\n",
       " '.\\\\data/alignments/s1/lgas2n.align',\n",
       " '.\\\\data/alignments/s1/lgas3s.align',\n",
       " '.\\\\data/alignments/s1/lgas4p.align',\n",
       " '.\\\\data/alignments/s1/lgas5a.align',\n",
       " '.\\\\data/alignments/s1/lgaz6n.align',\n",
       " '.\\\\data/alignments/s1/lgaz7s.align',\n",
       " '.\\\\data/alignments/s1/lgaz8p.align',\n",
       " '.\\\\data/alignments/s1/lgaz9a.align',\n",
       " '.\\\\data/alignments/s1/lgbf8n.align',\n",
       " '.\\\\data/alignments/s1/lgbf9s.align',\n",
       " '.\\\\data/alignments/s1/lgbg1a.align',\n",
       " '.\\\\data/alignments/s1/lgbgzp.align',\n",
       " '.\\\\data/alignments/s1/lgbm2n.align',\n",
       " '.\\\\data/alignments/s1/lgbm3s.align',\n",
       " '.\\\\data/alignments/s1/lgbm4p.align',\n",
       " '.\\\\data/alignments/s1/lgbm5a.align',\n",
       " '.\\\\data/alignments/s1/lgbs6n.align',\n",
       " '.\\\\data/alignments/s1/lgbs7s.align',\n",
       " '.\\\\data/alignments/s1/lgbs8p.align',\n",
       " '.\\\\data/alignments/s1/lgbs9a.align',\n",
       " '.\\\\data/alignments/s1/lgif1s.align',\n",
       " '.\\\\data/alignments/s1/lgif2p.align',\n",
       " '.\\\\data/alignments/s1/lgif3a.align',\n",
       " '.\\\\data/alignments/s1/lgifzn.align',\n",
       " '.\\\\data/alignments/s1/lgil4n.align',\n",
       " '.\\\\data/alignments/s1/lgil5s.align',\n",
       " '.\\\\data/alignments/s1/lgil6p.align',\n",
       " '.\\\\data/alignments/s1/lgil7a.align',\n",
       " '.\\\\data/alignments/s1/lgir8n.align',\n",
       " '.\\\\data/alignments/s1/lgir9s.align',\n",
       " '.\\\\data/alignments/s1/lgis1a.align',\n",
       " '.\\\\data/alignments/s1/lgiszp.align',\n",
       " '.\\\\data/alignments/s1/lgiz2n.align',\n",
       " '.\\\\data/alignments/s1/lgiz3s.align',\n",
       " '.\\\\data/alignments/s1/lgiz4p.align',\n",
       " '.\\\\data/alignments/s1/lgiz5a.align',\n",
       " '.\\\\data/alignments/s1/lgwa1a.align',\n",
       " '.\\\\data/alignments/s1/lgwazp.align',\n",
       " '.\\\\data/alignments/s1/lgwg2n.align',\n",
       " '.\\\\data/alignments/s1/lgwg3s.align',\n",
       " '.\\\\data/alignments/s1/lgwg4p.align',\n",
       " '.\\\\data/alignments/s1/lgwg5a.align',\n",
       " '.\\\\data/alignments/s1/lgwm6n.align',\n",
       " '.\\\\data/alignments/s1/lgwm7s.align',\n",
       " '.\\\\data/alignments/s1/lgwm8p.align',\n",
       " '.\\\\data/alignments/s1/lgwm9a.align',\n",
       " '.\\\\data/alignments/s1/lgwt1s.align',\n",
       " '.\\\\data/alignments/s1/lgwt2p.align',\n",
       " '.\\\\data/alignments/s1/lgwt3a.align',\n",
       " '.\\\\data/alignments/s1/lgwtzn.align',\n",
       " '.\\\\data/alignments/s1/lrae2n.align',\n",
       " '.\\\\data/alignments/s1/lrae3s.align',\n",
       " '.\\\\data/alignments/s1/lrae4p.align',\n",
       " '.\\\\data/alignments/s1/lrae5a.align',\n",
       " '.\\\\data/alignments/s1/lrak6n.align',\n",
       " '.\\\\data/alignments/s1/lrak7s.align',\n",
       " '.\\\\data/alignments/s1/lrak8p.align',\n",
       " '.\\\\data/alignments/s1/lrak9a.align',\n",
       " '.\\\\data/alignments/s1/lrar1s.align',\n",
       " '.\\\\data/alignments/s1/lrar2p.align',\n",
       " '.\\\\data/alignments/s1/lrar3a.align',\n",
       " '.\\\\data/alignments/s1/lrarzn.align',\n",
       " '.\\\\data/alignments/s1/lray4n.align',\n",
       " '.\\\\data/alignments/s1/lray5s.align',\n",
       " '.\\\\data/alignments/s1/lray6p.align',\n",
       " '.\\\\data/alignments/s1/lray7a.align',\n",
       " '.\\\\data/alignments/s1/lrbe6n.align',\n",
       " '.\\\\data/alignments/s1/lrbe7s.align',\n",
       " '.\\\\data/alignments/s1/lrbe8p.align',\n",
       " '.\\\\data/alignments/s1/lrbe9a.align',\n",
       " '.\\\\data/alignments/s1/lrbl1s.align',\n",
       " '.\\\\data/alignments/s1/lrbl2p.align',\n",
       " '.\\\\data/alignments/s1/lrbl3a.align',\n",
       " '.\\\\data/alignments/s1/lrblzn.align',\n",
       " '.\\\\data/alignments/s1/lrbr4n.align',\n",
       " '.\\\\data/alignments/s1/lrbr5s.align',\n",
       " '.\\\\data/alignments/s1/lrbr6p.align',\n",
       " '.\\\\data/alignments/s1/lrbr7a.align',\n",
       " '.\\\\data/alignments/s1/lrby8n.align',\n",
       " '.\\\\data/alignments/s1/lrby9s.align',\n",
       " '.\\\\data/alignments/s1/lrbz1a.align',\n",
       " '.\\\\data/alignments/s1/lrbzzp.align',\n",
       " '.\\\\data/alignments/s1/lrid8n.align',\n",
       " '.\\\\data/alignments/s1/lrid9s.align',\n",
       " '.\\\\data/alignments/s1/lrie1a.align',\n",
       " '.\\\\data/alignments/s1/lriezp.align',\n",
       " '.\\\\data/alignments/s1/lrik2n.align',\n",
       " '.\\\\data/alignments/s1/lrik3s.align',\n",
       " '.\\\\data/alignments/s1/lrik4p.align',\n",
       " '.\\\\data/alignments/s1/lrik5a.align',\n",
       " '.\\\\data/alignments/s1/lriq6n.align',\n",
       " '.\\\\data/alignments/s1/lriq7s.align',\n",
       " '.\\\\data/alignments/s1/lriq8p.align',\n",
       " '.\\\\data/alignments/s1/lriq9a.align',\n",
       " '.\\\\data/alignments/s1/lriy1s.align',\n",
       " '.\\\\data/alignments/s1/lriy2p.align',\n",
       " '.\\\\data/alignments/s1/lriy3a.align',\n",
       " '.\\\\data/alignments/s1/lriyzn.align',\n",
       " '.\\\\data/alignments/s1/lrwf1s.align',\n",
       " '.\\\\data/alignments/s1/lrwf2p.align',\n",
       " '.\\\\data/alignments/s1/lrwf3a.align',\n",
       " '.\\\\data/alignments/s1/lrwfzn.align',\n",
       " '.\\\\data/alignments/s1/lrwl4n.align',\n",
       " '.\\\\data/alignments/s1/lrwl5s.align',\n",
       " '.\\\\data/alignments/s1/lrwl6p.align',\n",
       " '.\\\\data/alignments/s1/lrwl7a.align',\n",
       " '.\\\\data/alignments/s1/lrwr8n.align',\n",
       " '.\\\\data/alignments/s1/lrwr9s.align',\n",
       " '.\\\\data/alignments/s1/lrws1a.align',\n",
       " '.\\\\data/alignments/s1/lrwszp.align',\n",
       " '.\\\\data/alignments/s1/lrwz2n.align',\n",
       " '.\\\\data/alignments/s1/lrwz3s.align',\n",
       " '.\\\\data/alignments/s1/lrwz4p.align',\n",
       " '.\\\\data/alignments/s1/lrwz5a.align',\n",
       " '.\\\\data/alignments/s1/lwae8n.align',\n",
       " '.\\\\data/alignments/s1/lwae9s.align',\n",
       " '.\\\\data/alignments/s1/lwaf1a.align',\n",
       " '.\\\\data/alignments/s1/lwafzp.align',\n",
       " '.\\\\data/alignments/s1/lwal2n.align',\n",
       " '.\\\\data/alignments/s1/lwal3s.align',\n",
       " '.\\\\data/alignments/s1/lwal4p.align',\n",
       " '.\\\\data/alignments/s1/lwal5a.align',\n",
       " '.\\\\data/alignments/s1/lwar6n.align',\n",
       " '.\\\\data/alignments/s1/lwar7s.align',\n",
       " '.\\\\data/alignments/s1/lwar8p.align',\n",
       " '.\\\\data/alignments/s1/lwar9a.align',\n",
       " '.\\\\data/alignments/s1/lwaz1s.align',\n",
       " '.\\\\data/alignments/s1/lwaz2p.align',\n",
       " '.\\\\data/alignments/s1/lwaz3a.align',\n",
       " '.\\\\data/alignments/s1/lwazzn.align',\n",
       " '.\\\\data/alignments/s1/lwbf2n.align',\n",
       " '.\\\\data/alignments/s1/lwbf3s.align',\n",
       " '.\\\\data/alignments/s1/lwbf4p.align',\n",
       " '.\\\\data/alignments/s1/lwbf5a.align',\n",
       " '.\\\\data/alignments/s1/lwbl6n.align',\n",
       " '.\\\\data/alignments/s1/lwbl7s.align',\n",
       " '.\\\\data/alignments/s1/lwbl8p.align',\n",
       " '.\\\\data/alignments/s1/lwbl9a.align',\n",
       " '.\\\\data/alignments/s1/lwbs1s.align',\n",
       " '.\\\\data/alignments/s1/lwbs2p.align',\n",
       " '.\\\\data/alignments/s1/lwbs3a.align',\n",
       " '.\\\\data/alignments/s1/lwbszn.align',\n",
       " '.\\\\data/alignments/s1/lwbz4n.align',\n",
       " '.\\\\data/alignments/s1/lwbz5s.align',\n",
       " '.\\\\data/alignments/s1/lwbz6p.align',\n",
       " '.\\\\data/alignments/s1/lwbz7a.align',\n",
       " '.\\\\data/alignments/s1/lwie4n.align',\n",
       " '.\\\\data/alignments/s1/lwie5s.align',\n",
       " '.\\\\data/alignments/s1/lwie6p.align',\n",
       " '.\\\\data/alignments/s1/lwie7a.align',\n",
       " '.\\\\data/alignments/s1/lwik8n.align',\n",
       " '.\\\\data/alignments/s1/lwik9s.align',\n",
       " '.\\\\data/alignments/s1/lwil1a.align',\n",
       " '.\\\\data/alignments/s1/lwilzp.align',\n",
       " '.\\\\data/alignments/s1/lwir2n.align',\n",
       " '.\\\\data/alignments/s1/lwir3s.align',\n",
       " '.\\\\data/alignments/s1/lwir4p.align',\n",
       " '.\\\\data/alignments/s1/lwir5a.align',\n",
       " '.\\\\data/alignments/s1/lwiy6n.align',\n",
       " '.\\\\data/alignments/s1/lwiy7s.align',\n",
       " '.\\\\data/alignments/s1/lwiy8p.align',\n",
       " '.\\\\data/alignments/s1/lwiy9a.align',\n",
       " '.\\\\data/alignments/s1/lwwf6n.align',\n",
       " '.\\\\data/alignments/s1/lwwf7s.align',\n",
       " '.\\\\data/alignments/s1/lwwf8p.align',\n",
       " '.\\\\data/alignments/s1/lwwf9a.align',\n",
       " '.\\\\data/alignments/s1/lwwm1s.align',\n",
       " '.\\\\data/alignments/s1/lwwm2p.align',\n",
       " '.\\\\data/alignments/s1/lwwm3a.align',\n",
       " '.\\\\data/alignments/s1/lwwmzn.align',\n",
       " '.\\\\data/alignments/s1/lwws4n.align',\n",
       " '.\\\\data/alignments/s1/lwws5s.align',\n",
       " '.\\\\data/alignments/s1/lwws6p.align',\n",
       " '.\\\\data/alignments/s1/lwws7a.align',\n",
       " '.\\\\data/alignments/s1/lwwz8n.align',\n",
       " '.\\\\data/alignments/s1/lwwz9s.align',\n",
       " '.\\\\data/alignments/s1/pbac1s.align',\n",
       " '.\\\\data/alignments/s1/pbac2p.align',\n",
       " '.\\\\data/alignments/s1/pbac3a.align',\n",
       " '.\\\\data/alignments/s1/pbaczn.align',\n",
       " '.\\\\data/alignments/s1/pbai4n.align',\n",
       " '.\\\\data/alignments/s1/pbai5s.align',\n",
       " '.\\\\data/alignments/s1/pbai6p.align',\n",
       " '.\\\\data/alignments/s1/pbai7a.align',\n",
       " '.\\\\data/alignments/s1/pbao8n.align',\n",
       " '.\\\\data/alignments/s1/pbao9s.align',\n",
       " '.\\\\data/alignments/s1/pbap1a.align',\n",
       " '.\\\\data/alignments/s1/pbapzp.align',\n",
       " '.\\\\data/alignments/s1/pbav2n.align',\n",
       " '.\\\\data/alignments/s1/pbav3s.align',\n",
       " '.\\\\data/alignments/s1/pbav4p.align',\n",
       " '.\\\\data/alignments/s1/pbav5a.align',\n",
       " '.\\\\data/alignments/s1/pbbc4n.align',\n",
       " '.\\\\data/alignments/s1/pbbc5s.align',\n",
       " '.\\\\data/alignments/s1/pbbc6p.align',\n",
       " '.\\\\data/alignments/s1/pbbc7a.align',\n",
       " '.\\\\data/alignments/s1/pbbi8n.align',\n",
       " '.\\\\data/alignments/s1/pbbi9s.align',\n",
       " '.\\\\data/alignments/s1/pbbj1a.align',\n",
       " '.\\\\data/alignments/s1/pbbjzp.align',\n",
       " '.\\\\data/alignments/s1/pbbp2n.align',\n",
       " '.\\\\data/alignments/s1/pbbp3s.align',\n",
       " '.\\\\data/alignments/s1/pbbp4p.align',\n",
       " '.\\\\data/alignments/s1/pbbp5a.align',\n",
       " '.\\\\data/alignments/s1/pbbv6n.align',\n",
       " '.\\\\data/alignments/s1/pbbv7s.align',\n",
       " '.\\\\data/alignments/s1/pbbv8p.align',\n",
       " '.\\\\data/alignments/s1/pbbv9a.align',\n",
       " '.\\\\data/alignments/s1/pbib6n.align',\n",
       " '.\\\\data/alignments/s1/pbib7s.align',\n",
       " '.\\\\data/alignments/s1/pbib8p.align',\n",
       " '.\\\\data/alignments/s1/pbib9a.align',\n",
       " '.\\\\data/alignments/s1/pbii1s.align',\n",
       " '.\\\\data/alignments/s1/pbii2p.align',\n",
       " '.\\\\data/alignments/s1/pbii3a.align',\n",
       " '.\\\\data/alignments/s1/pbiizn.align',\n",
       " '.\\\\data/alignments/s1/pbio4n.align',\n",
       " '.\\\\data/alignments/s1/pbio5s.align',\n",
       " '.\\\\data/alignments/s1/pbio6p.align',\n",
       " '.\\\\data/alignments/s1/pbio7a.align',\n",
       " '.\\\\data/alignments/s1/pbiu8n.align',\n",
       " '.\\\\data/alignments/s1/pbiu9s.align',\n",
       " '.\\\\data/alignments/s1/pbiv1a.align',\n",
       " '.\\\\data/alignments/s1/pbivzp.align',\n",
       " '.\\\\data/alignments/s1/pbwc8n.align',\n",
       " '.\\\\data/alignments/s1/pbwc9s.align',\n",
       " '.\\\\data/alignments/s1/pbwd1a.align',\n",
       " '.\\\\data/alignments/s1/pbwdzp.align',\n",
       " '.\\\\data/alignments/s1/pbwj2n.align',\n",
       " '.\\\\data/alignments/s1/pbwj3s.align',\n",
       " '.\\\\data/alignments/s1/pbwj4p.align',\n",
       " '.\\\\data/alignments/s1/pbwj5a.align',\n",
       " '.\\\\data/alignments/s1/pbwp6n.align',\n",
       " '.\\\\data/alignments/s1/pbwp7s.align',\n",
       " '.\\\\data/alignments/s1/pbwp8p.align',\n",
       " '.\\\\data/alignments/s1/pbwp9a.align',\n",
       " '.\\\\data/alignments/s1/pbwx1s.align',\n",
       " '.\\\\data/alignments/s1/pbwx2p.align',\n",
       " '.\\\\data/alignments/s1/pbwx3a.align',\n",
       " '.\\\\data/alignments/s1/pbwxzn.align',\n",
       " '.\\\\data/alignments/s1/pgad8n.align',\n",
       " '.\\\\data/alignments/s1/pgad9s.align',\n",
       " '.\\\\data/alignments/s1/pgae1a.align',\n",
       " '.\\\\data/alignments/s1/pgaezp.align',\n",
       " '.\\\\data/alignments/s1/pgak2n.align',\n",
       " '.\\\\data/alignments/s1/pgak3s.align',\n",
       " '.\\\\data/alignments/s1/pgak4p.align',\n",
       " '.\\\\data/alignments/s1/pgak5a.align',\n",
       " '.\\\\data/alignments/s1/pgaq6n.align',\n",
       " '.\\\\data/alignments/s1/pgaq7s.align',\n",
       " '.\\\\data/alignments/s1/pgaq8p.align',\n",
       " '.\\\\data/alignments/s1/pgaq9a.align',\n",
       " '.\\\\data/alignments/s1/pgay1s.align',\n",
       " '.\\\\data/alignments/s1/pgay2p.align',\n",
       " '.\\\\data/alignments/s1/pgay3a.align',\n",
       " '.\\\\data/alignments/s1/pgayzn.align',\n",
       " '.\\\\data/alignments/s1/pgbe2n.align',\n",
       " '.\\\\data/alignments/s1/pgbe3s.align',\n",
       " '.\\\\data/alignments/s1/pgbe4p.align',\n",
       " '.\\\\data/alignments/s1/pgbe5a.align',\n",
       " '.\\\\data/alignments/s1/pgbk6n.align',\n",
       " '.\\\\data/alignments/s1/pgbk7s.align',\n",
       " '.\\\\data/alignments/s1/pgbk8p.align',\n",
       " '.\\\\data/alignments/s1/pgbk9a.align',\n",
       " '.\\\\data/alignments/s1/pgbr1s.align',\n",
       " '.\\\\data/alignments/s1/pgbr2p.align',\n",
       " '.\\\\data/alignments/s1/pgbr3a.align',\n",
       " '.\\\\data/alignments/s1/pgbrzn.align',\n",
       " '.\\\\data/alignments/s1/pgby4n.align',\n",
       " '.\\\\data/alignments/s1/pgby5s.align',\n",
       " '.\\\\data/alignments/s1/pgby6p.align',\n",
       " '.\\\\data/alignments/s1/pgby7a.align',\n",
       " '.\\\\data/alignments/s1/pgid4n.align',\n",
       " '.\\\\data/alignments/s1/pgid5s.align',\n",
       " '.\\\\data/alignments/s1/pgid6p.align',\n",
       " '.\\\\data/alignments/s1/pgid7a.align',\n",
       " '.\\\\data/alignments/s1/pgij8n.align',\n",
       " '.\\\\data/alignments/s1/pgij9s.align',\n",
       " '.\\\\data/alignments/s1/pgik1a.align',\n",
       " '.\\\\data/alignments/s1/pgikzp.align',\n",
       " '.\\\\data/alignments/s1/pgiq2n.align',\n",
       " '.\\\\data/alignments/s1/pgiq3s.align',\n",
       " '.\\\\data/alignments/s1/pgiq4p.align',\n",
       " '.\\\\data/alignments/s1/pgiq5a.align',\n",
       " '.\\\\data/alignments/s1/pgix6n.align',\n",
       " '.\\\\data/alignments/s1/pgix7s.align',\n",
       " '.\\\\data/alignments/s1/pgix8p.align',\n",
       " '.\\\\data/alignments/s1/pgix9a.align',\n",
       " '.\\\\data/alignments/s1/pgwe6n.align',\n",
       " '.\\\\data/alignments/s1/pgwe7s.align',\n",
       " '.\\\\data/alignments/s1/pgwe8p.align',\n",
       " '.\\\\data/alignments/s1/pgwe9a.align',\n",
       " '.\\\\data/alignments/s1/pgwl1s.align',\n",
       " '.\\\\data/alignments/s1/pgwl2p.align',\n",
       " '.\\\\data/alignments/s1/pgwl3a.align',\n",
       " '.\\\\data/alignments/s1/pgwlzn.align',\n",
       " '.\\\\data/alignments/s1/pgwr4n.align',\n",
       " '.\\\\data/alignments/s1/pgwr5s.align',\n",
       " '.\\\\data/alignments/s1/pgwr6p.align',\n",
       " '.\\\\data/alignments/s1/pgwr7a.align',\n",
       " '.\\\\data/alignments/s1/pgwy8n.align',\n",
       " '.\\\\data/alignments/s1/pgwy9s.align',\n",
       " '.\\\\data/alignments/s1/pgwz1a.align',\n",
       " '.\\\\data/alignments/s1/pgwzzp.align',\n",
       " '.\\\\data/alignments/s1/prac6n.align',\n",
       " '.\\\\data/alignments/s1/prac7s.align',\n",
       " '.\\\\data/alignments/s1/prac8p.align',\n",
       " '.\\\\data/alignments/s1/prac9a.align',\n",
       " '.\\\\data/alignments/s1/praj1s.align',\n",
       " '.\\\\data/alignments/s1/praj2p.align',\n",
       " '.\\\\data/alignments/s1/praj3a.align',\n",
       " '.\\\\data/alignments/s1/prajzn.align',\n",
       " '.\\\\data/alignments/s1/prap4n.align',\n",
       " '.\\\\data/alignments/s1/prap5s.align',\n",
       " '.\\\\data/alignments/s1/prap6p.align',\n",
       " '.\\\\data/alignments/s1/prap7a.align',\n",
       " '.\\\\data/alignments/s1/prav8n.align',\n",
       " '.\\\\data/alignments/s1/prav9s.align',\n",
       " '.\\\\data/alignments/s1/prax1a.align',\n",
       " '.\\\\data/alignments/s1/praxzp.align',\n",
       " '.\\\\data/alignments/s1/prbd1s.align',\n",
       " '.\\\\data/alignments/s1/prbd2p.align',\n",
       " '.\\\\data/alignments/s1/prbd3a.align',\n",
       " '.\\\\data/alignments/s1/prbdzn.align',\n",
       " '.\\\\data/alignments/s1/prbj4n.align',\n",
       " '.\\\\data/alignments/s1/prbj5s.align',\n",
       " '.\\\\data/alignments/s1/prbj6p.align',\n",
       " '.\\\\data/alignments/s1/prbj7a.align',\n",
       " '.\\\\data/alignments/s1/prbp8n.align',\n",
       " '.\\\\data/alignments/s1/prbp9s.align',\n",
       " '.\\\\data/alignments/s1/prbq1a.align',\n",
       " '.\\\\data/alignments/s1/prbqzp.align',\n",
       " '.\\\\data/alignments/s1/prbx2n.align',\n",
       " '.\\\\data/alignments/s1/prbx3s.align',\n",
       " '.\\\\data/alignments/s1/prbx4p.align',\n",
       " '.\\\\data/alignments/s1/prbx5a.align',\n",
       " '.\\\\data/alignments/s1/pric2n.align',\n",
       " '.\\\\data/alignments/s1/pric3s.align',\n",
       " '.\\\\data/alignments/s1/pric4p.align',\n",
       " '.\\\\data/alignments/s1/pric5a.align',\n",
       " '.\\\\data/alignments/s1/prii6n.align',\n",
       " '.\\\\data/alignments/s1/prii7s.align',\n",
       " '.\\\\data/alignments/s1/prii8p.align',\n",
       " '.\\\\data/alignments/s1/prii9a.align',\n",
       " '.\\\\data/alignments/s1/prip1s.align',\n",
       " '.\\\\data/alignments/s1/prip2p.align',\n",
       " '.\\\\data/alignments/s1/prip3a.align',\n",
       " '.\\\\data/alignments/s1/pripzn.align',\n",
       " '.\\\\data/alignments/s1/priv4n.align',\n",
       " '.\\\\data/alignments/s1/priv5s.align',\n",
       " '.\\\\data/alignments/s1/priv6p.align',\n",
       " '.\\\\data/alignments/s1/priv7a.align',\n",
       " '.\\\\data/alignments/s1/prwd4n.align',\n",
       " '.\\\\data/alignments/s1/prwd5s.align',\n",
       " '.\\\\data/alignments/s1/prwd6p.align',\n",
       " '.\\\\data/alignments/s1/prwd7a.align',\n",
       " '.\\\\data/alignments/s1/prwj8n.align',\n",
       " '.\\\\data/alignments/s1/prwj9s.align',\n",
       " '.\\\\data/alignments/s1/prwk1a.align',\n",
       " '.\\\\data/alignments/s1/prwkzp.align',\n",
       " '.\\\\data/alignments/s1/prwq2n.align',\n",
       " '.\\\\data/alignments/s1/prwq3s.align',\n",
       " '.\\\\data/alignments/s1/prwq4p.align',\n",
       " '.\\\\data/alignments/s1/prwq5a.align',\n",
       " '.\\\\data/alignments/s1/prwx6n.align',\n",
       " '.\\\\data/alignments/s1/prwx7s.align',\n",
       " '.\\\\data/alignments/s1/prwx8p.align',\n",
       " '.\\\\data/alignments/s1/prwx9a.align',\n",
       " '.\\\\data/alignments/s1/pwad2n.align',\n",
       " '.\\\\data/alignments/s1/pwad3s.align',\n",
       " '.\\\\data/alignments/s1/pwad4p.align',\n",
       " '.\\\\data/alignments/s1/pwad5a.align',\n",
       " '.\\\\data/alignments/s1/pwaj6n.align',\n",
       " '.\\\\data/alignments/s1/pwaj7s.align',\n",
       " '.\\\\data/alignments/s1/pwaj8p.align',\n",
       " '.\\\\data/alignments/s1/pwaj9a.align',\n",
       " '.\\\\data/alignments/s1/pwaq1s.align',\n",
       " '.\\\\data/alignments/s1/pwaq2p.align',\n",
       " '.\\\\data/alignments/s1/pwaq3a.align',\n",
       " '.\\\\data/alignments/s1/pwaqzn.align',\n",
       " '.\\\\data/alignments/s1/pwax4n.align',\n",
       " '.\\\\data/alignments/s1/pwax5s.align',\n",
       " '.\\\\data/alignments/s1/pwax6p.align',\n",
       " '.\\\\data/alignments/s1/pwax7a.align',\n",
       " '.\\\\data/alignments/s1/pwbd6n.align',\n",
       " '.\\\\data/alignments/s1/pwbd7s.align',\n",
       " '.\\\\data/alignments/s1/pwbd8p.align',\n",
       " '.\\\\data/alignments/s1/pwbd9a.align',\n",
       " '.\\\\data/alignments/s1/pwbk1s.align',\n",
       " '.\\\\data/alignments/s1/pwbk2p.align',\n",
       " '.\\\\data/alignments/s1/pwbk3a.align',\n",
       " '.\\\\data/alignments/s1/pwbkzn.align',\n",
       " '.\\\\data/alignments/s1/pwbq4n.align',\n",
       " '.\\\\data/alignments/s1/pwbq5s.align',\n",
       " '.\\\\data/alignments/s1/pwbq6p.align',\n",
       " '.\\\\data/alignments/s1/pwbq7a.align',\n",
       " '.\\\\data/alignments/s1/pwbx8n.align',\n",
       " '.\\\\data/alignments/s1/pwbx9s.align',\n",
       " '.\\\\data/alignments/s1/pwby1a.align',\n",
       " '.\\\\data/alignments/s1/pwbyzp.align',\n",
       " '.\\\\data/alignments/s1/pwic8n.align',\n",
       " '.\\\\data/alignments/s1/pwic9s.align',\n",
       " '.\\\\data/alignments/s1/pwid1a.align',\n",
       " '.\\\\data/alignments/s1/pwidzp.align',\n",
       " '.\\\\data/alignments/s1/pwij2n.align',\n",
       " '.\\\\data/alignments/s1/pwij3s.align',\n",
       " '.\\\\data/alignments/s1/pwij4p.align',\n",
       " '.\\\\data/alignments/s1/pwij5a.align',\n",
       " '.\\\\data/alignments/s1/pwip6n.align',\n",
       " '.\\\\data/alignments/s1/pwip7s.align',\n",
       " '.\\\\data/alignments/s1/pwip8p.align',\n",
       " '.\\\\data/alignments/s1/pwip9a.align',\n",
       " '.\\\\data/alignments/s1/pwix1s.align',\n",
       " '.\\\\data/alignments/s1/pwix2p.align',\n",
       " '.\\\\data/alignments/s1/pwix3a.align',\n",
       " '.\\\\data/alignments/s1/pwixzn.align',\n",
       " '.\\\\data/alignments/s1/pwwe1s.align',\n",
       " '.\\\\data/alignments/s1/pwwe2p.align',\n",
       " '.\\\\data/alignments/s1/pwwe3a.align',\n",
       " '.\\\\data/alignments/s1/pwwezn.align',\n",
       " '.\\\\data/alignments/s1/pwwk4n.align',\n",
       " '.\\\\data/alignments/s1/pwwk5s.align',\n",
       " '.\\\\data/alignments/s1/pwwk6p.align',\n",
       " '.\\\\data/alignments/s1/pwwk7a.align',\n",
       " '.\\\\data/alignments/s1/pwwq8n.align',\n",
       " '.\\\\data/alignments/s1/pwwq9s.align',\n",
       " '.\\\\data/alignments/s1/pwwr1a.align',\n",
       " '.\\\\data/alignments/s1/pwwrzp.align',\n",
       " '.\\\\data/alignments/s1/pwwy2n.align',\n",
       " '.\\\\data/alignments/s1/pwwy3s.align',\n",
       " '.\\\\data/alignments/s1/pwwy4p.align',\n",
       " '.\\\\data/alignments/s1/pwwy5a.align',\n",
       " '.\\\\data/alignments/s1/sbaa4n.align',\n",
       " '.\\\\data/alignments/s1/sbaa5s.align',\n",
       " '.\\\\data/alignments/s1/sbaa6p.align',\n",
       " '.\\\\data/alignments/s1/sbaa7a.align',\n",
       " '.\\\\data/alignments/s1/sbag8n.align',\n",
       " '.\\\\data/alignments/s1/sbag9s.align',\n",
       " '.\\\\data/alignments/s1/sbah1a.align',\n",
       " '.\\\\data/alignments/s1/sbahzp.align',\n",
       " '.\\\\data/alignments/s1/sban2n.align',\n",
       " '.\\\\data/alignments/s1/sban3s.align',\n",
       " '.\\\\data/alignments/s1/sban4p.align',\n",
       " '.\\\\data/alignments/s1/sban5a.align',\n",
       " '.\\\\data/alignments/s1/sbat6n.align',\n",
       " '.\\\\data/alignments/s1/sbat7s.align',\n",
       " '.\\\\data/alignments/s1/sbat8p.align',\n",
       " '.\\\\data/alignments/s1/sbat9a.align',\n",
       " '.\\\\data/alignments/s1/sbba8n.align',\n",
       " '.\\\\data/alignments/s1/sbba9s.align',\n",
       " '.\\\\data/alignments/s1/sbbb1a.align',\n",
       " '.\\\\data/alignments/s1/sbbbzp.align',\n",
       " '.\\\\data/alignments/s1/sbbh2n.align',\n",
       " '.\\\\data/alignments/s1/sbbh3s.align',\n",
       " '.\\\\data/alignments/s1/sbbh4p.align',\n",
       " '.\\\\data/alignments/s1/sbbh5a.align',\n",
       " '.\\\\data/alignments/s1/sbbn6n.align',\n",
       " '.\\\\data/alignments/s1/sbbn7s.align',\n",
       " '.\\\\data/alignments/s1/sbbn8p.align',\n",
       " '.\\\\data/alignments/s1/sbbn9a.align',\n",
       " '.\\\\data/alignments/s1/sbbu1s.align',\n",
       " '.\\\\data/alignments/s1/sbbu2p.align',\n",
       " '.\\\\data/alignments/s1/sbbu3a.align',\n",
       " '.\\\\data/alignments/s1/sbbuzn.align',\n",
       " '.\\\\data/alignments/s1/sbia1s.align',\n",
       " '.\\\\data/alignments/s1/sbia2p.align',\n",
       " '.\\\\data/alignments/s1/sbia3a.align',\n",
       " '.\\\\data/alignments/s1/sbiazn.align',\n",
       " '.\\\\data/alignments/s1/sbig4n.align',\n",
       " '.\\\\data/alignments/s1/sbig5s.align',\n",
       " '.\\\\data/alignments/s1/sbig6p.align',\n",
       " '.\\\\data/alignments/s1/sbig7a.align',\n",
       " '.\\\\data/alignments/s1/sbim8n.align',\n",
       " '.\\\\data/alignments/s1/sbim9s.align',\n",
       " '.\\\\data/alignments/s1/sbin1a.align',\n",
       " '.\\\\data/alignments/s1/sbinzp.align',\n",
       " '.\\\\data/alignments/s1/sbit2n.align',\n",
       " '.\\\\data/alignments/s1/sbit3s.align',\n",
       " '.\\\\data/alignments/s1/sbit4p.align',\n",
       " '.\\\\data/alignments/s1/sbit5a.align',\n",
       " '.\\\\data/alignments/s1/sbwb2n.align',\n",
       " '.\\\\data/alignments/s1/sbwb3s.align',\n",
       " '.\\\\data/alignments/s1/sbwb4p.align',\n",
       " '.\\\\data/alignments/s1/sbwb5a.align',\n",
       " '.\\\\data/alignments/s1/sbwh6n.align',\n",
       " '.\\\\data/alignments/s1/sbwh7s.align',\n",
       " '.\\\\data/alignments/s1/sbwh8p.align',\n",
       " '.\\\\data/alignments/s1/sbwh9a.align',\n",
       " '.\\\\data/alignments/s1/sbwo1s.align',\n",
       " '.\\\\data/alignments/s1/sbwo2p.align',\n",
       " '.\\\\data/alignments/s1/sbwo3a.align',\n",
       " '.\\\\data/alignments/s1/sbwozn.align',\n",
       " '.\\\\data/alignments/s1/sbwu4n.align',\n",
       " '.\\\\data/alignments/s1/sbwu5s.align',\n",
       " '.\\\\data/alignments/s1/sbwu6p.align',\n",
       " '.\\\\data/alignments/s1/sbwu7a.align',\n",
       " '.\\\\data/alignments/s1/sgac2n.align',\n",
       " '.\\\\data/alignments/s1/sgac3s.align',\n",
       " '.\\\\data/alignments/s1/sgac4p.align',\n",
       " '.\\\\data/alignments/s1/sgac5a.align',\n",
       " '.\\\\data/alignments/s1/sgai6n.align',\n",
       " '.\\\\data/alignments/s1/sgai7s.align',\n",
       " '.\\\\data/alignments/s1/sgai8p.align',\n",
       " '.\\\\data/alignments/s1/sgai9a.align',\n",
       " '.\\\\data/alignments/s1/sgap1s.align',\n",
       " '.\\\\data/alignments/s1/sgap2p.align',\n",
       " '.\\\\data/alignments/s1/sgap3a.align',\n",
       " '.\\\\data/alignments/s1/sgapzn.align',\n",
       " '.\\\\data/alignments/s1/sgav4n.align',\n",
       " '.\\\\data/alignments/s1/sgav5s.align',\n",
       " '.\\\\data/alignments/s1/sgav6p.align',\n",
       " '.\\\\data/alignments/s1/sgav7a.align',\n",
       " '.\\\\data/alignments/s1/sgbc6n.align',\n",
       " '.\\\\data/alignments/s1/sgbc7s.align',\n",
       " '.\\\\data/alignments/s1/sgbc8p.align',\n",
       " '.\\\\data/alignments/s1/sgbc9a.align',\n",
       " '.\\\\data/alignments/s1/sgbj1s.align',\n",
       " '.\\\\data/alignments/s1/sgbj2p.align',\n",
       " '.\\\\data/alignments/s1/sgbj3a.align',\n",
       " '.\\\\data/alignments/s1/sgbjzn.align',\n",
       " '.\\\\data/alignments/s1/sgbp4n.align',\n",
       " '.\\\\data/alignments/s1/sgbp5s.align',\n",
       " '.\\\\data/alignments/s1/sgbp6p.align',\n",
       " '.\\\\data/alignments/s1/sgbp7a.align',\n",
       " '.\\\\data/alignments/s1/sgbv8n.align',\n",
       " '.\\\\data/alignments/s1/sgbv9s.align',\n",
       " '.\\\\data/alignments/s1/sgbx1a.align',\n",
       " '.\\\\data/alignments/s1/sgbxzp.align',\n",
       " '.\\\\data/alignments/s1/sgib8n.align',\n",
       " '.\\\\data/alignments/s1/sgib9s.align',\n",
       " '.\\\\data/alignments/s1/sgic1a.align',\n",
       " '.\\\\data/alignments/s1/sgiczp.align',\n",
       " '.\\\\data/alignments/s1/sgii2n.align',\n",
       " '.\\\\data/alignments/s1/sgii3s.align',\n",
       " '.\\\\data/alignments/s1/sgii4p.align',\n",
       " '.\\\\data/alignments/s1/sgii5a.align',\n",
       " '.\\\\data/alignments/s1/sgio6n.align',\n",
       " '.\\\\data/alignments/s1/sgio7s.align',\n",
       " '.\\\\data/alignments/s1/sgio8p.align',\n",
       " '.\\\\data/alignments/s1/sgio9a.align',\n",
       " '.\\\\data/alignments/s1/sgiv1s.align',\n",
       " '.\\\\data/alignments/s1/sgiv2p.align',\n",
       " '.\\\\data/alignments/s1/sgiv3a.align',\n",
       " '.\\\\data/alignments/s1/sgivzn.align',\n",
       " '.\\\\data/alignments/s1/sgwd1s.align',\n",
       " '.\\\\data/alignments/s1/sgwd2p.align',\n",
       " '.\\\\data/alignments/s1/sgwd3a.align',\n",
       " '.\\\\data/alignments/s1/sgwdzn.align',\n",
       " '.\\\\data/alignments/s1/sgwj4n.align',\n",
       " '.\\\\data/alignments/s1/sgwj5s.align',\n",
       " '.\\\\data/alignments/s1/sgwj6p.align',\n",
       " '.\\\\data/alignments/s1/sgwj7a.align',\n",
       " '.\\\\data/alignments/s1/sgwp8n.align',\n",
       " '.\\\\data/alignments/s1/sgwp9s.align',\n",
       " '.\\\\data/alignments/s1/sgwq1a.align',\n",
       " '.\\\\data/alignments/s1/sgwqzp.align',\n",
       " '.\\\\data/alignments/s1/sgwx2n.align',\n",
       " '.\\\\data/alignments/s1/sgwx3s.align',\n",
       " '.\\\\data/alignments/s1/sgwx4p.align',\n",
       " '.\\\\data/alignments/s1/sgwx5a.align',\n",
       " '.\\\\data/alignments/s1/srab1s.align',\n",
       " '.\\\\data/alignments/s1/srab2p.align',\n",
       " '.\\\\data/alignments/s1/srab3a.align',\n",
       " '.\\\\data/alignments/s1/srabzn.align',\n",
       " '.\\\\data/alignments/s1/srah4n.align',\n",
       " '.\\\\data/alignments/s1/srah5s.align',\n",
       " '.\\\\data/alignments/s1/srah6p.align',\n",
       " '.\\\\data/alignments/s1/srah7a.align',\n",
       " '.\\\\data/alignments/s1/sran8n.align',\n",
       " '.\\\\data/alignments/s1/sran9s.align',\n",
       " '.\\\\data/alignments/s1/srao1a.align',\n",
       " '.\\\\data/alignments/s1/sraozp.align',\n",
       " '.\\\\data/alignments/s1/srau2n.align',\n",
       " '.\\\\data/alignments/s1/srau3s.align',\n",
       " '.\\\\data/alignments/s1/srau4p.align',\n",
       " '.\\\\data/alignments/s1/srau5a.align',\n",
       " '.\\\\data/alignments/s1/srbb4n.align',\n",
       " '.\\\\data/alignments/s1/srbb5s.align',\n",
       " '.\\\\data/alignments/s1/srbb6p.align',\n",
       " '.\\\\data/alignments/s1/srbb7a.align',\n",
       " '.\\\\data/alignments/s1/srbh8n.align',\n",
       " '.\\\\data/alignments/s1/srbh9s.align',\n",
       " '.\\\\data/alignments/s1/srbi1a.align',\n",
       " '.\\\\data/alignments/s1/srbizp.align',\n",
       " '.\\\\data/alignments/s1/srbo2n.align',\n",
       " '.\\\\data/alignments/s1/srbo3s.align',\n",
       " '.\\\\data/alignments/s1/srbo4p.align',\n",
       " '.\\\\data/alignments/s1/srbo5a.align',\n",
       " '.\\\\data/alignments/s1/srbu6n.align',\n",
       " '.\\\\data/alignments/s1/srbu7s.align',\n",
       " '.\\\\data/alignments/s1/srbu8p.align',\n",
       " '.\\\\data/alignments/s1/srbu9a.align',\n",
       " '.\\\\data/alignments/s1/sria6n.align',\n",
       " '.\\\\data/alignments/s1/sria7s.align',\n",
       " '.\\\\data/alignments/s1/sria8p.align',\n",
       " '.\\\\data/alignments/s1/sria9a.align',\n",
       " '.\\\\data/alignments/s1/srih1s.align',\n",
       " '.\\\\data/alignments/s1/srih2p.align',\n",
       " '.\\\\data/alignments/s1/srih3a.align',\n",
       " '.\\\\data/alignments/s1/srihzn.align',\n",
       " '.\\\\data/alignments/s1/srin4n.align',\n",
       " '.\\\\data/alignments/s1/srin5s.align',\n",
       " '.\\\\data/alignments/s1/srin6p.align',\n",
       " '.\\\\data/alignments/s1/srin7a.align',\n",
       " '.\\\\data/alignments/s1/srit8n.align',\n",
       " '.\\\\data/alignments/s1/srit9s.align',\n",
       " '.\\\\data/alignments/s1/sriu1a.align',\n",
       " '.\\\\data/alignments/s1/sriuzp.align',\n",
       " '.\\\\data/alignments/s1/srwb8n.align',\n",
       " '.\\\\data/alignments/s1/srwb9s.align',\n",
       " '.\\\\data/alignments/s1/srwc1a.align',\n",
       " '.\\\\data/alignments/s1/srwczp.align',\n",
       " '.\\\\data/alignments/s1/srwi2n.align',\n",
       " '.\\\\data/alignments/s1/srwi3s.align',\n",
       " '.\\\\data/alignments/s1/srwi4p.align',\n",
       " '.\\\\data/alignments/s1/srwi5a.align',\n",
       " '.\\\\data/alignments/s1/srwo6n.align',\n",
       " '.\\\\data/alignments/s1/srwo7s.align',\n",
       " '.\\\\data/alignments/s1/srwo8p.align',\n",
       " '.\\\\data/alignments/s1/srwo9a.align',\n",
       " '.\\\\data/alignments/s1/srwv1s.align',\n",
       " '.\\\\data/alignments/s1/srwv2p.align',\n",
       " '.\\\\data/alignments/s1/srwv3a.align',\n",
       " '.\\\\data/alignments/s1/srwvzn.align',\n",
       " '.\\\\data/alignments/s1/swab6n.align',\n",
       " '.\\\\data/alignments/s1/swab7s.align',\n",
       " '.\\\\data/alignments/s1/swab8p.align',\n",
       " '.\\\\data/alignments/s1/swab9a.align',\n",
       " '.\\\\data/alignments/s1/swai1s.align',\n",
       " '.\\\\data/alignments/s1/swai2p.align',\n",
       " '.\\\\data/alignments/s1/swai3a.align',\n",
       " '.\\\\data/alignments/s1/swaizn.align',\n",
       " '.\\\\data/alignments/s1/swao4n.align',\n",
       " '.\\\\data/alignments/s1/swao5s.align',\n",
       " '.\\\\data/alignments/s1/swao6p.align',\n",
       " '.\\\\data/alignments/s1/swao7a.align',\n",
       " '.\\\\data/alignments/s1/swau8n.align',\n",
       " '.\\\\data/alignments/s1/swau9s.align',\n",
       " '.\\\\data/alignments/s1/swav1a.align',\n",
       " '.\\\\data/alignments/s1/swavzp.align',\n",
       " '.\\\\data/alignments/s1/swbc1s.align',\n",
       " '.\\\\data/alignments/s1/swbc2p.align',\n",
       " '.\\\\data/alignments/s1/swbc3a.align',\n",
       " '.\\\\data/alignments/s1/swbczn.align',\n",
       " '.\\\\data/alignments/s1/swbi4n.align',\n",
       " '.\\\\data/alignments/s1/swbi5s.align',\n",
       " '.\\\\data/alignments/s1/swbi6p.align',\n",
       " '.\\\\data/alignments/s1/swbi7a.align',\n",
       " '.\\\\data/alignments/s1/swbo8n.align',\n",
       " '.\\\\data/alignments/s1/swbo9s.align',\n",
       " '.\\\\data/alignments/s1/swbp1a.align',\n",
       " '.\\\\data/alignments/s1/swbpzp.align',\n",
       " '.\\\\data/alignments/s1/swbv2n.align',\n",
       " '.\\\\data/alignments/s1/swbv3s.align',\n",
       " '.\\\\data/alignments/s1/swbv4p.align',\n",
       " '.\\\\data/alignments/s1/swbv5a.align',\n",
       " '.\\\\data/alignments/s1/swib2n.align',\n",
       " '.\\\\data/alignments/s1/swib3s.align',\n",
       " '.\\\\data/alignments/s1/swib4p.align',\n",
       " '.\\\\data/alignments/s1/swib5a.align',\n",
       " '.\\\\data/alignments/s1/swih6n.align',\n",
       " '.\\\\data/alignments/s1/swih7s.align',\n",
       " '.\\\\data/alignments/s1/swih8p.align',\n",
       " '.\\\\data/alignments/s1/swih9a.align',\n",
       " '.\\\\data/alignments/s1/swio1s.align',\n",
       " '.\\\\data/alignments/s1/swio2p.align',\n",
       " '.\\\\data/alignments/s1/swio3a.align',\n",
       " '.\\\\data/alignments/s1/swiozn.align',\n",
       " '.\\\\data/alignments/s1/swiu4n.align',\n",
       " '.\\\\data/alignments/s1/swiu5s.align',\n",
       " '.\\\\data/alignments/s1/swiu6p.align',\n",
       " '.\\\\data/alignments/s1/swiu7a.align',\n",
       " '.\\\\data/alignments/s1/swwc4n.align',\n",
       " '.\\\\data/alignments/s1/swwc5s.align',\n",
       " '.\\\\data/alignments/s1/swwc6p.align',\n",
       " '.\\\\data/alignments/s1/swwc7a.align',\n",
       " '.\\\\data/alignments/s1/swwi8n.align',\n",
       " '.\\\\data/alignments/s1/swwi9s.align',\n",
       " '.\\\\data/alignments/s1/swwj1a.align',\n",
       " '.\\\\data/alignments/s1/swwjzp.align',\n",
       " '.\\\\data/alignments/s1/swwp2n.align',\n",
       " '.\\\\data/alignments/s1/swwp3s.align',\n",
       " '.\\\\data/alignments/s1/swwp4p.align',\n",
       " '.\\\\data/alignments/s1/swwp5a.align',\n",
       " '.\\\\data/alignments/s1/swwv6n.align',\n",
       " ...]"
      ]
     },
     "execution_count": 8,
     "metadata": {},
     "output_type": "execute_result"
    }
   ],
   "source": [
    "# url = 'https://drive.google.com/uc?id=1YlvpDLix3S-U8fd-gqRwPcWXAXm8JwjL'\n",
    "# output = \"data.zip\"\n",
    "# gdown.download(url, output, quiet = False)\n",
    "gdown.extractall('./data.zip')"
   ]
  },
  {
   "cell_type": "code",
   "execution_count": 9,
   "metadata": {
    "id": "2EjOPvRgVNNw"
   },
   "outputs": [],
   "source": [
    "def load_video(path:str) -> List[float]:\n",
    "  cap = cv2.VideoCapture(path)\n",
    "  frames = []\n",
    "  for _ in range(int(cap.get(cv2.CAP_PROP_FRAME_COUNT))):\n",
    "    ret, frame = cap.read()\n",
    "    frame = tf.image.rgb_to_grayscale(frame) # so that we have less data to preprocess\n",
    "    frames.append(frame[190:236, 80:220, :]) #static slicing of the mouth region\n",
    "    #mainly isolation of mouth\n",
    "  cap.release()\n",
    "\n",
    "  mean = tf.math.reduce_mean(frames) #calc mean\n",
    "  std  = tf.math.reduce_std(tf.cast(frames,tf.float32)) #calc std deviation\n",
    "  return tf.cast((frames-mean),tf.float32)/std #return standardised image features"
   ]
  },
  {
   "cell_type": "code",
   "execution_count": 10,
   "metadata": {
    "id": "4Oah5maMWjRX"
   },
   "outputs": [],
   "source": [
    "vocab = [x for x in \"abcdefghijklmnopqrstuvwxyz'?!123456789 \"]"
   ]
  },
  {
   "cell_type": "code",
   "execution_count": 11,
   "metadata": {
    "collapsed": true,
    "id": "rBvQnGiOWspB"
   },
   "outputs": [
    {
     "data": {
      "text/plain": [
       "['a',\n",
       " 'b',\n",
       " 'c',\n",
       " 'd',\n",
       " 'e',\n",
       " 'f',\n",
       " 'g',\n",
       " 'h',\n",
       " 'i',\n",
       " 'j',\n",
       " 'k',\n",
       " 'l',\n",
       " 'm',\n",
       " 'n',\n",
       " 'o',\n",
       " 'p',\n",
       " 'q',\n",
       " 'r',\n",
       " 's',\n",
       " 't',\n",
       " 'u',\n",
       " 'v',\n",
       " 'w',\n",
       " 'x',\n",
       " 'y',\n",
       " 'z',\n",
       " \"'\",\n",
       " '?',\n",
       " '!',\n",
       " '1',\n",
       " '2',\n",
       " '3',\n",
       " '4',\n",
       " '5',\n",
       " '6',\n",
       " '7',\n",
       " '8',\n",
       " '9',\n",
       " ' ']"
      ]
     },
     "execution_count": 11,
     "metadata": {},
     "output_type": "execute_result"
    }
   ],
   "source": [
    "vocab"
   ]
  },
  {
   "cell_type": "code",
   "execution_count": 12,
   "metadata": {
    "colab": {
     "base_uri": "https://localhost:8080/"
    },
    "id": "SpuSlojKW5gp",
    "outputId": "e5a1f7f0-3747-4de2-fe9d-071d84b0e9aa"
   },
   "outputs": [
    {
     "name": "stdout",
     "output_type": "stream",
     "text": [
      "The vocaublary is: ['', 'a', 'b', 'c', 'd', 'e', 'f', 'g', 'h', 'i', 'j', 'k', 'l', 'm', 'n', 'o', 'p', 'q', 'r', 's', 't', 'u', 'v', 'w', 'x', 'y', 'z', \"'\", '?', '!', '1', '2', '3', '4', '5', '6', '7', '8', '9', ' ']\n",
      "Size = 40\n"
     ]
    }
   ],
   "source": [
    "char_to_num = tf.keras.layers.StringLookup(vocabulary = vocab, oov_token=\"\")\n",
    "num_to_char = tf.keras.layers.StringLookup(\n",
    "    vocabulary = char_to_num.get_vocabulary(),\n",
    "    oov_token=\"\",\n",
    "    invert = True)\n",
    "# out of value token is empty so if it encounters a char that is not in vocab\n",
    "# it return empty string\n",
    "print(\n",
    "    f\"The vocaublary is: {char_to_num.get_vocabulary()}\"\n",
    "    f\"\\nSize = {char_to_num.vocabulary_size()}\"\n",
    ")"
   ]
  },
  {
   "cell_type": "code",
   "execution_count": 13,
   "metadata": {
    "id": "h2TZtO8TYahw"
   },
   "outputs": [],
   "source": [
    "def load_alignments(path:str) -> List[str]: \n",
    "    with open(path, 'r') as f: \n",
    "        lines = f.readlines() \n",
    "    tokens = []\n",
    "    for line in lines:\n",
    "        line = line.split()\n",
    "        if line[2] != 'sil': \n",
    "            tokens = [*tokens,' ',line[2]]\n",
    "    return char_to_num(tf.reshape(tf.strings.unicode_split(tokens, input_encoding='UTF-8'), (-1)))[1:]"
   ]
  },
  {
   "cell_type": "code",
   "execution_count": 22,
   "metadata": {
    "id": "itR4cUe8ZeqC"
   },
   "outputs": [],
   "source": [
    "def load_data(path:str):\n",
    "  path = bytes.decode(path.numpy())\n",
    "  # File name splitting for Linux and Colab\n",
    "#   file_name = path.split('/')[-1].split('.')[0] #get bbf2an from path->bbf2an.mpg->bbf2an\n",
    "  # File name splitting for windows\n",
    "  file_name = path.split('\\\\')[-1].split('.')[0]\n",
    "\n",
    "  # TO BE USED WHEN DATA IS DIRECTLY UPLOADED IN THE SAME PATH\n",
    "  video_path = os.path.join('data','s1',f'{file_name}.mpg')\n",
    "  alignment_path = os.path.join('data','alignments','s1',f'{file_name}.align')\n",
    "  \n",
    "  # /content/drive/MyDrive/Colab data/Lip Reading AI/data\n",
    "#   video_path = os.path.join('drive','MyDrive','Colab data','Lip Reading AI','data','s1',f'{file_name}.mpg')\n",
    "#   alignment_path = os.path.join('drive','MyDrive','Colab data','Lip Reading AI','data','alignments','s1',f'{file_name}.align')\n",
    "  frames = load_video(video_path) \n",
    "  alignments = load_alignments(alignment_path)\n",
    "  \n",
    "  return frames, alignments"
   ]
  },
  {
   "cell_type": "code",
   "execution_count": 26,
   "metadata": {
    "id": "F_bwYFARdPRn"
   },
   "outputs": [],
   "source": [
    "test_path =  os.path.join('data','s1','bras9a.mpg')"
   ]
  },
  {
   "cell_type": "code",
   "execution_count": 27,
   "metadata": {
    "colab": {
     "base_uri": "https://localhost:8080/",
     "height": 35
    },
    "id": "LYLZGcN3dc5E",
    "outputId": "f7976318-4ad0-4859-d125-0e9b4d94c2f0"
   },
   "outputs": [
    {
     "data": {
      "text/plain": [
       "'data\\\\s1\\\\bras9a'"
      ]
     },
     "execution_count": 27,
     "metadata": {},
     "output_type": "execute_result"
    }
   ],
   "source": [
    "tf.convert_to_tensor(test_path).numpy().decode('UTF-8').split('/')[-1].split('.')[0]"
   ]
  },
  {
   "cell_type": "code",
   "execution_count": 28,
   "metadata": {
    "id": "qnogd-HZeV6r"
   },
   "outputs": [],
   "source": [
    "frames , alignments = load_data(tf.convert_to_tensor(test_path))"
   ]
  },
  {
   "cell_type": "code",
   "execution_count": 29,
   "metadata": {
    "colab": {
     "base_uri": "https://localhost:8080/",
     "height": 161
    },
    "id": "vOtk6odeeV4n",
    "outputId": "34b71a75-dec2-45dc-a513-795fa685ac9e"
   },
   "outputs": [
    {
     "data": {
      "image/png": "[encoded data removed]",
      "text/plain": [
       "<Figure size 640x480 with 1 Axes>"
      ]
     },
     "metadata": {},
     "output_type": "display_data"
    }
   ],
   "source": [
    "imgplot = plt.imshow(frames[45])"
   ]
  },
  {
   "cell_type": "code",
   "execution_count": 30,
   "metadata": {
    "colab": {
     "base_uri": "https://localhost:8080/"
    },
    "id": "wqIKqjiyj9-2",
    "outputId": "56b44605-9abd-4859-d9d2-3ef3d9eaf3cc"
   },
   "outputs": [
    {
     "data": {
      "text/plain": [
       "<tf.Tensor: shape=(23,), dtype=int64, numpy=\n",
       "array([ 2,  9, 14, 39, 18,  5,  4, 39,  1, 20, 39, 19, 39, 14,  9, 14,  5,\n",
       "       39,  1,  7,  1,  9, 14], dtype=int64)>"
      ]
     },
     "execution_count": 30,
     "metadata": {},
     "output_type": "execute_result"
    }
   ],
   "source": [
    "alignments"
   ]
  },
  {
   "cell_type": "code",
   "execution_count": 31,
   "metadata": {
    "colab": {
     "base_uri": "https://localhost:8080/"
    },
    "id": "tE2prebakNky",
    "outputId": "c88c3ab9-b848-4a51-c48a-e3a0e51c8f05"
   },
   "outputs": [
    {
     "data": {
      "text/plain": [
       "<tf.Tensor: shape=(), dtype=string, numpy=b'bin red at s nine again'>"
      ]
     },
     "execution_count": 31,
     "metadata": {},
     "output_type": "execute_result"
    }
   ],
   "source": [
    "tf.strings.reduce_join([bytes.decode(x) for x in num_to_char(alignments.numpy()).numpy()])"
   ]
  },
  {
   "cell_type": "code",
   "execution_count": 32,
   "metadata": {
    "id": "TXCEAvVBmS48"
   },
   "outputs": [],
   "source": [
    "# if we wanna use pure string processing we need to wrap it in tf.py_function\n",
    "# helps in tensorflow data pipelining\n",
    "def mappable_function(path:str) ->List[str]:\n",
    "    result = tf.py_function(load_data, [path], (tf.float32, tf.int64))\n",
    "    return result"
   ]
  },
  {
   "cell_type": "markdown",
   "metadata": {
    "id": "3Mu8DGvZQuAT"
   },
   "source": [
    "## 2. Create Data Pipeline\n"
   ]
  },
  {
   "cell_type": "code",
   "execution_count": 36,
   "metadata": {
    "id": "WSAqenEsw4vo"
   },
   "outputs": [],
   "source": [
    "data = tf.data.Dataset.list_files('data\\\\s1\\\\*.mpg')\n",
    "data = data.shuffle(500, reshuffle_each_iteration=False)\n",
    "data = data.map(mappable_function)\n",
    "# 1 batch -> 2 videos and their aligns -> 75 frames per video and 40 tokens per align\n",
    "data = data.padded_batch(2, padded_shapes=([75,None,None,None],[40])) \n",
    "data = data.prefetch(tf.data.AUTOTUNE)\n",
    "# Added for split \n",
    "train = data.take(450)\n",
    "test = data.skip(450)"
   ]
  },
  {
   "cell_type": "code",
   "execution_count": 37,
   "metadata": {
    "id": "lvDaV6iSxnuZ"
   },
   "outputs": [],
   "source": [
    "frames,alignments = (data.as_numpy_iterator().next())"
   ]
  },
  {
   "cell_type": "code",
   "execution_count": 38,
   "metadata": {
    "colab": {
     "base_uri": "https://localhost:8080/"
    },
    "id": "pi1WKbC80Fq7",
    "outputId": "34fd9a46-16a4-4b21-f4b6-4032d0256e27"
   },
   "outputs": [
    {
     "data": {
      "text/plain": [
       "2"
      ]
     },
     "execution_count": 38,
     "metadata": {},
     "output_type": "execute_result"
    }
   ],
   "source": [
    "len(frames)"
   ]
  },
  {
   "cell_type": "code",
   "execution_count": 40,
   "metadata": {},
   "outputs": [],
   "source": [
    "test_data = data.as_numpy_iterator().next()\n",
    "val = test_data"
   ]
  },
  {
   "cell_type": "code",
   "execution_count": 41,
   "metadata": {
    "id": "8dFyFe060msP"
   },
   "outputs": [
    {
     "name": "stderr",
     "output_type": "stream",
     "text": [
      "Lossy conversion from float32 to uint8. Range [0.0, 9.210616111755371]. Convert image to uint8 prior to saving to suppress this warning.\n",
      "Lossy conversion from float32 to uint8. Range [0.0, 9.210616111755371]. Convert image to uint8 prior to saving to suppress this warning.\n",
      "Lossy conversion from float32 to uint8. Range [0.0, 9.210616111755371]. Convert image to uint8 prior to saving to suppress this warning.\n",
      "Lossy conversion from float32 to uint8. Range [0.0, 9.210616111755371]. Convert image to uint8 prior to saving to suppress this warning.\n",
      "Lossy conversion from float32 to uint8. Range [0.0, 9.210616111755371]. Convert image to uint8 prior to saving to suppress this warning.\n",
      "Lossy conversion from float32 to uint8. Range [0.0, 9.210616111755371]. Convert image to uint8 prior to saving to suppress this warning.\n",
      "Lossy conversion from float32 to uint8. Range [0.0, 9.210616111755371]. Convert image to uint8 prior to saving to suppress this warning.\n",
      "Lossy conversion from float32 to uint8. Range [0.0, 9.210616111755371]. Convert image to uint8 prior to saving to suppress this warning.\n",
      "Lossy conversion from float32 to uint8. Range [0.0, 9.210616111755371]. Convert image to uint8 prior to saving to suppress this warning.\n",
      "Lossy conversion from float32 to uint8. Range [0.0, 9.210616111755371]. Convert image to uint8 prior to saving to suppress this warning.\n",
      "Lossy conversion from float32 to uint8. Range [0.0, 9.210616111755371]. Convert image to uint8 prior to saving to suppress this warning.\n",
      "Lossy conversion from float32 to uint8. Range [0.0, 9.210616111755371]. Convert image to uint8 prior to saving to suppress this warning.\n",
      "Lossy conversion from float32 to uint8. Range [0.0, 9.210616111755371]. Convert image to uint8 prior to saving to suppress this warning.\n",
      "Lossy conversion from float32 to uint8. Range [0.0, 9.210616111755371]. Convert image to uint8 prior to saving to suppress this warning.\n",
      "Lossy conversion from float32 to uint8. Range [0.0, 9.210616111755371]. Convert image to uint8 prior to saving to suppress this warning.\n",
      "Lossy conversion from float32 to uint8. Range [0.0, 9.210616111755371]. Convert image to uint8 prior to saving to suppress this warning.\n",
      "Lossy conversion from float32 to uint8. Range [0.0, 9.210616111755371]. Convert image to uint8 prior to saving to suppress this warning.\n",
      "Lossy conversion from float32 to uint8. Range [0.0, 9.210616111755371]. Convert image to uint8 prior to saving to suppress this warning.\n",
      "Lossy conversion from float32 to uint8. Range [0.0, 9.210616111755371]. Convert image to uint8 prior to saving to suppress this warning.\n",
      "Lossy conversion from float32 to uint8. Range [0.0, 9.210616111755371]. Convert image to uint8 prior to saving to suppress this warning.\n",
      "Lossy conversion from float32 to uint8. Range [0.0, 9.210616111755371]. Convert image to uint8 prior to saving to suppress this warning.\n",
      "Lossy conversion from float32 to uint8. Range [0.0, 9.210616111755371]. Convert image to uint8 prior to saving to suppress this warning.\n",
      "Lossy conversion from float32 to uint8. Range [0.0, 9.210616111755371]. Convert image to uint8 prior to saving to suppress this warning.\n",
      "Lossy conversion from float32 to uint8. Range [0.0, 9.210616111755371]. Convert image to uint8 prior to saving to suppress this warning.\n",
      "Lossy conversion from float32 to uint8. Range [0.0, 9.210616111755371]. Convert image to uint8 prior to saving to suppress this warning.\n",
      "Lossy conversion from float32 to uint8. Range [0.0, 9.210616111755371]. Convert image to uint8 prior to saving to suppress this warning.\n",
      "Lossy conversion from float32 to uint8. Range [0.0, 9.210616111755371]. Convert image to uint8 prior to saving to suppress this warning.\n",
      "Lossy conversion from float32 to uint8. Range [0.0, 9.210616111755371]. Convert image to uint8 prior to saving to suppress this warning.\n",
      "Lossy conversion from float32 to uint8. Range [0.0, 9.210616111755371]. Convert image to uint8 prior to saving to suppress this warning.\n",
      "Lossy conversion from float32 to uint8. Range [0.0, 9.210616111755371]. Convert image to uint8 prior to saving to suppress this warning.\n",
      "Lossy conversion from float32 to uint8. Range [0.0, 9.210616111755371]. Convert image to uint8 prior to saving to suppress this warning.\n",
      "Lossy conversion from float32 to uint8. Range [0.0, 9.210616111755371]. Convert image to uint8 prior to saving to suppress this warning.\n",
      "Lossy conversion from float32 to uint8. Range [0.0, 9.210616111755371]. Convert image to uint8 prior to saving to suppress this warning.\n",
      "Lossy conversion from float32 to uint8. Range [0.0, 9.210616111755371]. Convert image to uint8 prior to saving to suppress this warning.\n",
      "Lossy conversion from float32 to uint8. Range [0.0, 9.210616111755371]. Convert image to uint8 prior to saving to suppress this warning.\n",
      "Lossy conversion from float32 to uint8. Range [0.0, 9.210616111755371]. Convert image to uint8 prior to saving to suppress this warning.\n",
      "Lossy conversion from float32 to uint8. Range [0.0, 9.210616111755371]. Convert image to uint8 prior to saving to suppress this warning.\n",
      "Lossy conversion from float32 to uint8. Range [0.0, 9.210616111755371]. Convert image to uint8 prior to saving to suppress this warning.\n",
      "Lossy conversion from float32 to uint8. Range [0.0, 9.210616111755371]. Convert image to uint8 prior to saving to suppress this warning.\n",
      "Lossy conversion from float32 to uint8. Range [0.0, 9.210616111755371]. Convert image to uint8 prior to saving to suppress this warning.\n",
      "Lossy conversion from float32 to uint8. Range [0.0, 9.210616111755371]. Convert image to uint8 prior to saving to suppress this warning.\n",
      "Lossy conversion from float32 to uint8. Range [0.0, 9.210616111755371]. Convert image to uint8 prior to saving to suppress this warning.\n",
      "Lossy conversion from float32 to uint8. Range [0.0, 9.210616111755371]. Convert image to uint8 prior to saving to suppress this warning.\n",
      "Lossy conversion from float32 to uint8. Range [0.0, 9.210616111755371]. Convert image to uint8 prior to saving to suppress this warning.\n",
      "Lossy conversion from float32 to uint8. Range [0.0, 9.210616111755371]. Convert image to uint8 prior to saving to suppress this warning.\n",
      "Lossy conversion from float32 to uint8. Range [0.0, 9.210616111755371]. Convert image to uint8 prior to saving to suppress this warning.\n",
      "Lossy conversion from float32 to uint8. Range [0.0, 9.210616111755371]. Convert image to uint8 prior to saving to suppress this warning.\n",
      "Lossy conversion from float32 to uint8. Range [0.0, 9.210616111755371]. Convert image to uint8 prior to saving to suppress this warning.\n",
      "Lossy conversion from float32 to uint8. Range [0.0, 9.210616111755371]. Convert image to uint8 prior to saving to suppress this warning.\n",
      "Lossy conversion from float32 to uint8. Range [0.0, 9.210616111755371]. Convert image to uint8 prior to saving to suppress this warning.\n",
      "Lossy conversion from float32 to uint8. Range [0.0, 9.210616111755371]. Convert image to uint8 prior to saving to suppress this warning.\n",
      "Lossy conversion from float32 to uint8. Range [0.0, 9.210616111755371]. Convert image to uint8 prior to saving to suppress this warning.\n",
      "Lossy conversion from float32 to uint8. Range [0.0, 9.210616111755371]. Convert image to uint8 prior to saving to suppress this warning.\n",
      "Lossy conversion from float32 to uint8. Range [0.0, 9.210616111755371]. Convert image to uint8 prior to saving to suppress this warning.\n",
      "Lossy conversion from float32 to uint8. Range [0.0, 9.210616111755371]. Convert image to uint8 prior to saving to suppress this warning.\n",
      "Lossy conversion from float32 to uint8. Range [0.0, 9.210616111755371]. Convert image to uint8 prior to saving to suppress this warning.\n",
      "Lossy conversion from float32 to uint8. Range [0.0, 9.210616111755371]. Convert image to uint8 prior to saving to suppress this warning.\n",
      "Lossy conversion from float32 to uint8. Range [0.0, 9.210616111755371]. Convert image to uint8 prior to saving to suppress this warning.\n",
      "Lossy conversion from float32 to uint8. Range [0.0, 9.210616111755371]. Convert image to uint8 prior to saving to suppress this warning.\n",
      "Lossy conversion from float32 to uint8. Range [0.0, 9.210616111755371]. Convert image to uint8 prior to saving to suppress this warning.\n"
     ]
    },
    {
     "name": "stderr",
     "output_type": "stream",
     "text": [
      "Lossy conversion from float32 to uint8. Range [0.0, 9.210616111755371]. Convert image to uint8 prior to saving to suppress this warning.\n",
      "Lossy conversion from float32 to uint8. Range [0.0, 9.210616111755371]. Convert image to uint8 prior to saving to suppress this warning.\n",
      "Lossy conversion from float32 to uint8. Range [0.0, 9.210616111755371]. Convert image to uint8 prior to saving to suppress this warning.\n",
      "Lossy conversion from float32 to uint8. Range [0.0, 9.210616111755371]. Convert image to uint8 prior to saving to suppress this warning.\n",
      "Lossy conversion from float32 to uint8. Range [0.0, 9.210616111755371]. Convert image to uint8 prior to saving to suppress this warning.\n",
      "Lossy conversion from float32 to uint8. Range [0.0, 9.210616111755371]. Convert image to uint8 prior to saving to suppress this warning.\n",
      "Lossy conversion from float32 to uint8. Range [0.0, 9.210616111755371]. Convert image to uint8 prior to saving to suppress this warning.\n",
      "Lossy conversion from float32 to uint8. Range [0.0, 9.210616111755371]. Convert image to uint8 prior to saving to suppress this warning.\n",
      "Lossy conversion from float32 to uint8. Range [0.0, 9.210616111755371]. Convert image to uint8 prior to saving to suppress this warning.\n",
      "Lossy conversion from float32 to uint8. Range [0.0, 9.210616111755371]. Convert image to uint8 prior to saving to suppress this warning.\n",
      "Lossy conversion from float32 to uint8. Range [0.0, 9.210616111755371]. Convert image to uint8 prior to saving to suppress this warning.\n",
      "Lossy conversion from float32 to uint8. Range [0.0, 9.210616111755371]. Convert image to uint8 prior to saving to suppress this warning.\n",
      "Lossy conversion from float32 to uint8. Range [0.0, 9.210616111755371]. Convert image to uint8 prior to saving to suppress this warning.\n",
      "Lossy conversion from float32 to uint8. Range [0.0, 9.210616111755371]. Convert image to uint8 prior to saving to suppress this warning.\n",
      "Lossy conversion from float32 to uint8. Range [0.0, 9.210616111755371]. Convert image to uint8 prior to saving to suppress this warning.\n"
     ]
    }
   ],
   "source": [
    "imageio.mimsave('./animation.gif',val[0][1 ],fps=10)"
   ]
  },
  {
   "cell_type": "code",
   "execution_count": 42,
   "metadata": {
    "colab": {
     "base_uri": "https://localhost:8080/",
     "height": 178
    },
    "id": "L0j-68Ic07Hq",
    "outputId": "4c3b6b5f-0cbb-4242-9407-10ece189948d"
   },
   "outputs": [
    {
     "data": {
      "text/plain": [
       "<matplotlib.image.AxesImage at 0x23202b6b940>"
      ]
     },
     "execution_count": 42,
     "metadata": {},
     "output_type": "execute_result"
    },
    {
     "data": {
      "image/png": "[encoded data removed]",
      "text/plain": [
       "<Figure size 640x480 with 1 Axes>"
      ]
     },
     "metadata": {},
     "output_type": "display_data"
    }
   ],
   "source": [
    "# 0:videos (from videos or aligns) , 1:2nd video, 45:45th frame of the 2nd video\n",
    "plt.imshow(val[0][1][45])"
   ]
  },
  {
   "cell_type": "markdown",
   "metadata": {
    "id": "Ou98tdS6QuBV"
   },
   "source": [
    "## 3. Design the Deep Neural Network"
   ]
  },
  {
   "cell_type": "code",
   "execution_count": 43,
   "metadata": {
    "id": "fjWXrvo32aSH"
   },
   "outputs": [],
   "source": [
    "from tensorflow.keras.models import Sequential\n",
    "from tensorflow.keras.layers import Conv3D, LSTM, Dense, Dropout, Bidirectional, MaxPool3D, Activation, Reshape, SpatialDropout3D, BatchNormalization, TimeDistributed, Flatten\n",
    "from tensorflow.keras.optimizers import Adam\n",
    "from tensorflow.keras.callbacks import ModelCheckpoint, LearningRateScheduler"
   ]
  },
  {
   "cell_type": "code",
   "execution_count": 44,
   "metadata": {
    "colab": {
     "base_uri": "https://localhost:8080/"
    },
    "id": "YXxZkCcl3eYr",
    "outputId": "8613be69-5928-4eec-f6aa-7d4feeac663e"
   },
   "outputs": [
    {
     "data": {
      "text/plain": [
       "(75, 46, 140, 1)"
      ]
     },
     "execution_count": 44,
     "metadata": {},
     "output_type": "execute_result"
    }
   ],
   "source": [
    "data.as_numpy_iterator().next()[0][0].shape"
   ]
  },
  {
   "cell_type": "code",
   "execution_count": 45,
   "metadata": {
    "id": "ryZ2l-L83CHZ"
   },
   "outputs": [],
   "source": [
    "model = Sequential()\n",
    "model.add(Conv3D(128, 3, input_shape=(75,46,140,1), padding='same'))\n",
    "model.add(Activation('relu'))\n",
    "model.add(MaxPool3D((1,2,2)))\n",
    "\n",
    "model.add(Conv3D(256, 3, padding='same'))\n",
    "model.add(Activation('relu'))\n",
    "model.add(MaxPool3D((1,2,2)))\n",
    "\n",
    "model.add(Conv3D(75, 3, padding='same'))\n",
    "model.add(Activation('relu'))\n",
    "model.add(MaxPool3D((1,2,2)))\n",
    "\n",
    "model.add(TimeDistributed(Flatten()))\n",
    "\n",
    "model.add(Bidirectional(LSTM(128, kernel_initializer='Orthogonal',return_sequences=True )))\n",
    "model.add(Dropout(.5))\n",
    "\n",
    "model.add(Bidirectional(LSTM(128, kernel_initializer='Orthogonal', return_sequences=True)))\n",
    "model.add(Dropout(.5))\n",
    "\n",
    "# dense layer is 1+sz to handle the special \n",
    "model.add(Dense(char_to_num.vocabulary_size()+1, kernel_initializer='he_normal', activation='softmax'))"
   ]
  },
  {
   "cell_type": "code",
   "execution_count": 46,
   "metadata": {
    "id": "mlDCnbe07jHx"
   },
   "outputs": [
    {
     "name": "stdout",
     "output_type": "stream",
     "text": [
      "Model: \"sequential\"\n",
      "_________________________________________________________________\n",
      " Layer (type)                Output Shape              Param #   \n",
      "=================================================================\n",
      " conv3d (Conv3D)             (None, 75, 46, 140, 128)  3584      \n",
      "                                                                 \n",
      " activation (Activation)     (None, 75, 46, 140, 128)  0         \n",
      "                                                                 \n",
      " max_pooling3d (MaxPooling3D  (None, 75, 23, 70, 128)  0         \n",
      " )                                                               \n",
      "                                                                 \n",
      " conv3d_1 (Conv3D)           (None, 75, 23, 70, 256)   884992    \n",
      "                                                                 \n",
      " activation_1 (Activation)   (None, 75, 23, 70, 256)   0         \n",
      "                                                                 \n",
      " max_pooling3d_1 (MaxPooling  (None, 75, 11, 35, 256)  0         \n",
      " 3D)                                                             \n",
      "                                                                 \n",
      " conv3d_2 (Conv3D)           (None, 75, 11, 35, 75)    518475    \n",
      "                                                                 \n",
      " activation_2 (Activation)   (None, 75, 11, 35, 75)    0         \n",
      "                                                                 \n",
      " max_pooling3d_2 (MaxPooling  (None, 75, 5, 17, 75)    0         \n",
      " 3D)                                                             \n",
      "                                                                 \n",
      " time_distributed (TimeDistr  (None, 75, 6375)         0         \n",
      " ibuted)                                                         \n",
      "                                                                 \n",
      " bidirectional (Bidirectiona  (None, 75, 256)          6660096   \n",
      " l)                                                              \n",
      "                                                                 \n",
      " dropout (Dropout)           (None, 75, 256)           0         \n",
      "                                                                 \n",
      " bidirectional_1 (Bidirectio  (None, 75, 256)          394240    \n",
      " nal)                                                            \n",
      "                                                                 \n",
      " dropout_1 (Dropout)         (None, 75, 256)           0         \n",
      "                                                                 \n",
      " dense (Dense)               (None, 75, 41)            10537     \n",
      "                                                                 \n",
      "=================================================================\n",
      "Total params: 8,471,924\n",
      "Trainable params: 8,471,924\n",
      "Non-trainable params: 0\n",
      "_________________________________________________________________\n"
     ]
    }
   ],
   "source": [
    "model.summary()"
   ]
  },
  {
   "cell_type": "code",
   "execution_count": 47,
   "metadata": {
    "colab": {
     "base_uri": "https://localhost:8080/"
    },
    "id": "kz_CfxUZ8QYN",
    "outputId": "14c24f52-5e11-497f-8f79-6332b89ffa85"
   },
   "outputs": [
    {
     "name": "stdout",
     "output_type": "stream",
     "text": [
      "1/1 [==============================] - 5s 5s/step\n"
     ]
    }
   ],
   "source": [
    "yhat = model.predict(val[0])"
   ]
  },
  {
   "cell_type": "code",
   "execution_count": 48,
   "metadata": {
    "colab": {
     "base_uri": "https://localhost:8080/"
    },
    "id": "-Qt_P22K8wIN",
    "outputId": "2178489e-7d9a-42a1-8ebe-5209dd165a65"
   },
   "outputs": [
    {
     "data": {
      "text/plain": [
       "(75, 41)"
      ]
     },
     "execution_count": 48,
     "metadata": {},
     "output_type": "execute_result"
    }
   ],
   "source": [
    "yhat[0].shape"
   ]
  },
  {
   "cell_type": "code",
   "execution_count": 49,
   "metadata": {
    "colab": {
     "base_uri": "https://localhost:8080/"
    },
    "id": "59USOMJp9UiA",
    "outputId": "42210fab-a0be-4f5f-b228-22c8b3b57c95"
   },
   "outputs": [
    {
     "data": {
      "text/plain": [
       "<tf.Tensor: shape=(75,), dtype=int64, numpy=\n",
       "array([31, 17, 17, 17, 17, 17, 17, 17, 17, 17, 17, 17, 17, 17, 17, 17, 17,\n",
       "       17, 17, 17, 17, 17, 17, 17, 17, 17, 17, 17, 17, 17, 17, 17, 17, 17,\n",
       "       17, 17, 17, 17, 17, 17, 17, 17, 17, 17, 17, 17, 17, 17, 17, 17, 17,\n",
       "       17, 17, 17, 17, 17, 17, 17, 17, 17, 17, 17, 17, 17, 17, 17, 17, 17,\n",
       "       17, 17, 17, 17, 17,  5,  5], dtype=int64)>"
      ]
     },
     "execution_count": 49,
     "metadata": {},
     "output_type": "execute_result"
    }
   ],
   "source": [
    "tf.argmax(yhat[0],axis=1)"
   ]
  },
  {
   "cell_type": "code",
   "execution_count": 50,
   "metadata": {
    "colab": {
     "base_uri": "https://localhost:8080/"
    },
    "id": "qlvTh0oe8scu",
    "outputId": "52c8da51-8de5-419a-f46e-00d281165ee7"
   },
   "outputs": [
    {
     "data": {
      "text/plain": [
       "<tf.Tensor: shape=(), dtype=string, numpy=b'2qqqqqqqqqqqqqqqqqqqqqqqqqqqqqqqqqqqqqqqqqqqqqqqqqqqqqqqqqqqqqqqqqqqqqqqqee'>"
      ]
     },
     "execution_count": 50,
     "metadata": {},
     "output_type": "execute_result"
    }
   ],
   "source": [
    "tf.strings.reduce_join([num_to_char(tf.argmax(x)) for x in yhat[0]])"
   ]
  },
  {
   "cell_type": "code",
   "execution_count": 51,
   "metadata": {
    "colab": {
     "base_uri": "https://localhost:8080/"
    },
    "id": "lS2oAZ709iK1",
    "outputId": "c9b370ee-639d-49aa-9e61-3a17342df7be"
   },
   "outputs": [
    {
     "data": {
      "text/plain": [
       "(None, 75, 46, 140, 1)"
      ]
     },
     "execution_count": 51,
     "metadata": {},
     "output_type": "execute_result"
    }
   ],
   "source": [
    "model.input_shape"
   ]
  },
  {
   "cell_type": "code",
   "execution_count": 52,
   "metadata": {
    "colab": {
     "base_uri": "https://localhost:8080/"
    },
    "id": "nnrYJ1B69h-m",
    "outputId": "d98f3478-0b46-41a6-af73-3d3387e646dd"
   },
   "outputs": [
    {
     "data": {
      "text/plain": [
       "(None, 75, 41)"
      ]
     },
     "execution_count": 52,
     "metadata": {},
     "output_type": "execute_result"
    }
   ],
   "source": [
    "model.output_shape"
   ]
  },
  {
   "cell_type": "markdown",
   "metadata": {
    "id": "F96C2LZqRFTb"
   },
   "source": [
    "## 4. Setup Training Options and Train"
   ]
  },
  {
   "cell_type": "code",
   "execution_count": 53,
   "metadata": {
    "id": "iW_0bdK79v24"
   },
   "outputs": [],
   "source": [
    "def scheduler(epoch, lr):\n",
    "    if epoch < 30:\n",
    "        return lr\n",
    "    else:\n",
    "        return lr * tf.math.exp(-0.1)"
   ]
  },
  {
   "cell_type": "code",
   "execution_count": 54,
   "metadata": {
    "id": "2T0jz_P49-wY"
   },
   "outputs": [],
   "source": [
    "def CTCLoss(y_true, y_pred):\n",
    "  batch_len = tf.cast(tf.shape(y_true)[0], dtype=\"int64\")\n",
    "  input_length = tf.cast(tf.shape(y_pred)[1], dtype=\"int64\")\n",
    "  label_length = tf.cast(tf.shape(y_true)[1], dtype=\"int64\")\n",
    "\n",
    "  input_length = input_length * tf.ones(shape=(batch_len, 1), dtype=\"int64\")\n",
    "  label_length = label_length * tf.ones(shape=(batch_len, 1), dtype=\"int64\")\n",
    "\n",
    "  loss = tf.keras.backend.ctc_batch_cost(y_true, y_pred, input_length, label_length)\n",
    "  return loss"
   ]
  },
  {
   "cell_type": "code",
   "execution_count": 55,
   "metadata": {
    "id": "HxYCFgs6-lEc"
   },
   "outputs": [],
   "source": [
    "class ProduceExample(tf.keras.callbacks.Callback): \n",
    "    def __init__(self, dataset) -> None: \n",
    "        self.dataset = dataset.as_numpy_iterator()\n",
    "    \n",
    "    def on_epoch_end(self, epoch, logs=None) -> None:\n",
    "        data = self.dataset.next()\n",
    "        yhat = self.model.predict(data[0])\n",
    "        decoded = tf.keras.backend.ctc_decode(yhat, [75,75], greedy=False)[0][0].numpy()\n",
    "        for x in range(len(yhat)):           \n",
    "            print('Original:', tf.strings.reduce_join(num_to_char(data[1][x])).numpy().decode('utf-8'))\n",
    "            print('Prediction:', tf.strings.reduce_join(num_to_char(decoded[x])).numpy().decode('utf-8'))\n",
    "            print('~'*100)"
   ]
  },
  {
   "cell_type": "code",
   "execution_count": 56,
   "metadata": {
    "id": "cDdi9VIl-3qY"
   },
   "outputs": [],
   "source": [
    "model.compile(optimizer = Adam(learning_rate = 0.0001), loss = CTCLoss)"
   ]
  },
  {
   "cell_type": "code",
   "execution_count": 57,
   "metadata": {
    "id": "9YJQarrP_MOv"
   },
   "outputs": [],
   "source": [
    "checkpoint_callback = ModelCheckpoint(os.path.join('models','checkpoint'),monitor='loss',save_weights_only=True)"
   ]
  },
  {
   "cell_type": "code",
   "execution_count": 58,
   "metadata": {
    "id": "3szZpUve_m1g"
   },
   "outputs": [],
   "source": [
    "schedule_callback = LearningRateScheduler(scheduler)"
   ]
  },
  {
   "cell_type": "code",
   "execution_count": 59,
   "metadata": {
    "id": "ajtRBye7_mpr"
   },
   "outputs": [],
   "source": [
    "example_callback = ProduceExample(data)"
   ]
  },
  {
   "cell_type": "code",
   "execution_count": 60,
   "metadata": {
    "id": "yGyWZo6T_4eX"
   },
   "outputs": [
    {
     "name": "stdout",
     "output_type": "stream",
     "text": [
      "Epoch 1/2\n"
     ]
    },
    {
     "ename": "KeyboardInterrupt",
     "evalue": "",
     "output_type": "error",
     "traceback": [
      "\u001b[1;31m---------------------------------------------------------------------------\u001b[0m",
      "\u001b[1;31mKeyboardInterrupt\u001b[0m                         Traceback (most recent call last)",
      "Cell \u001b[1;32mIn[60], line 1\u001b[0m\n\u001b[1;32m----> 1\u001b[0m \u001b[43mmodel\u001b[49m\u001b[38;5;241;43m.\u001b[39;49m\u001b[43mfit\u001b[49m\u001b[43m(\u001b[49m\u001b[43mtrain\u001b[49m\u001b[43m,\u001b[49m\u001b[43m \u001b[49m\u001b[43mvalidation_data\u001b[49m\u001b[38;5;241;43m=\u001b[39;49m\u001b[43mtest\u001b[49m\u001b[43m,\u001b[49m\u001b[43m \u001b[49m\u001b[43mepochs\u001b[49m\u001b[38;5;241;43m=\u001b[39;49m\u001b[38;5;241;43m2\u001b[39;49m\u001b[43m,\u001b[49m\u001b[43m \u001b[49m\u001b[43mcallbacks\u001b[49m\u001b[38;5;241;43m=\u001b[39;49m\u001b[43m[\u001b[49m\u001b[43mcheckpoint_callback\u001b[49m\u001b[43m,\u001b[49m\u001b[43m \u001b[49m\u001b[43mschedule_callback\u001b[49m\u001b[43m,\u001b[49m\u001b[43m \u001b[49m\u001b[43mexample_callback\u001b[49m\u001b[43m]\u001b[49m\u001b[43m)\u001b[49m\n",
      "File \u001b[1;32m~\\AppData\\Roaming\\Python\\Python39\\site-packages\\keras\\utils\\traceback_utils.py:64\u001b[0m, in \u001b[0;36mfilter_traceback.<locals>.error_handler\u001b[1;34m(*args, **kwargs)\u001b[0m\n\u001b[0;32m     62\u001b[0m filtered_tb \u001b[38;5;241m=\u001b[39m \u001b[38;5;28;01mNone\u001b[39;00m\n\u001b[0;32m     63\u001b[0m \u001b[38;5;28;01mtry\u001b[39;00m:\n\u001b[1;32m---> 64\u001b[0m   \u001b[38;5;28;01mreturn\u001b[39;00m fn(\u001b[38;5;241m*\u001b[39margs, \u001b[38;5;241m*\u001b[39m\u001b[38;5;241m*\u001b[39mkwargs)\n\u001b[0;32m     65\u001b[0m \u001b[38;5;28;01mexcept\u001b[39;00m \u001b[38;5;167;01mException\u001b[39;00m \u001b[38;5;28;01mas\u001b[39;00m e:  \u001b[38;5;66;03m# pylint: disable=broad-except\u001b[39;00m\n\u001b[0;32m     66\u001b[0m   filtered_tb \u001b[38;5;241m=\u001b[39m _process_traceback_frames(e\u001b[38;5;241m.\u001b[39m__traceback__)\n",
      "File \u001b[1;32m~\\AppData\\Roaming\\Python\\Python39\\site-packages\\keras\\engine\\training.py:1409\u001b[0m, in \u001b[0;36mModel.fit\u001b[1;34m(self, x, y, batch_size, epochs, verbose, callbacks, validation_split, validation_data, shuffle, class_weight, sample_weight, initial_epoch, steps_per_epoch, validation_steps, validation_batch_size, validation_freq, max_queue_size, workers, use_multiprocessing)\u001b[0m\n\u001b[0;32m   1402\u001b[0m \u001b[38;5;28;01mwith\u001b[39;00m tf\u001b[38;5;241m.\u001b[39mprofiler\u001b[38;5;241m.\u001b[39mexperimental\u001b[38;5;241m.\u001b[39mTrace(\n\u001b[0;32m   1403\u001b[0m     \u001b[38;5;124m'\u001b[39m\u001b[38;5;124mtrain\u001b[39m\u001b[38;5;124m'\u001b[39m,\n\u001b[0;32m   1404\u001b[0m     epoch_num\u001b[38;5;241m=\u001b[39mepoch,\n\u001b[0;32m   1405\u001b[0m     step_num\u001b[38;5;241m=\u001b[39mstep,\n\u001b[0;32m   1406\u001b[0m     batch_size\u001b[38;5;241m=\u001b[39mbatch_size,\n\u001b[0;32m   1407\u001b[0m     _r\u001b[38;5;241m=\u001b[39m\u001b[38;5;241m1\u001b[39m):\n\u001b[0;32m   1408\u001b[0m   callbacks\u001b[38;5;241m.\u001b[39mon_train_batch_begin(step)\n\u001b[1;32m-> 1409\u001b[0m   tmp_logs \u001b[38;5;241m=\u001b[39m \u001b[38;5;28;43mself\u001b[39;49m\u001b[38;5;241;43m.\u001b[39;49m\u001b[43mtrain_function\u001b[49m\u001b[43m(\u001b[49m\u001b[43miterator\u001b[49m\u001b[43m)\u001b[49m\n\u001b[0;32m   1410\u001b[0m   \u001b[38;5;28;01mif\u001b[39;00m data_handler\u001b[38;5;241m.\u001b[39mshould_sync:\n\u001b[0;32m   1411\u001b[0m     context\u001b[38;5;241m.\u001b[39masync_wait()\n",
      "File \u001b[1;32m~\\AppData\\Roaming\\Python\\Python39\\site-packages\\tensorflow\\python\\util\\traceback_utils.py:150\u001b[0m, in \u001b[0;36mfilter_traceback.<locals>.error_handler\u001b[1;34m(*args, **kwargs)\u001b[0m\n\u001b[0;32m    148\u001b[0m filtered_tb \u001b[38;5;241m=\u001b[39m \u001b[38;5;28;01mNone\u001b[39;00m\n\u001b[0;32m    149\u001b[0m \u001b[38;5;28;01mtry\u001b[39;00m:\n\u001b[1;32m--> 150\u001b[0m   \u001b[38;5;28;01mreturn\u001b[39;00m fn(\u001b[38;5;241m*\u001b[39margs, \u001b[38;5;241m*\u001b[39m\u001b[38;5;241m*\u001b[39mkwargs)\n\u001b[0;32m    151\u001b[0m \u001b[38;5;28;01mexcept\u001b[39;00m \u001b[38;5;167;01mException\u001b[39;00m \u001b[38;5;28;01mas\u001b[39;00m e:\n\u001b[0;32m    152\u001b[0m   filtered_tb \u001b[38;5;241m=\u001b[39m _process_traceback_frames(e\u001b[38;5;241m.\u001b[39m__traceback__)\n",
      "File \u001b[1;32m~\\AppData\\Roaming\\Python\\Python39\\site-packages\\tensorflow\\python\\eager\\def_function.py:915\u001b[0m, in \u001b[0;36mFunction.__call__\u001b[1;34m(self, *args, **kwds)\u001b[0m\n\u001b[0;32m    912\u001b[0m compiler \u001b[38;5;241m=\u001b[39m \u001b[38;5;124m\"\u001b[39m\u001b[38;5;124mxla\u001b[39m\u001b[38;5;124m\"\u001b[39m \u001b[38;5;28;01mif\u001b[39;00m \u001b[38;5;28mself\u001b[39m\u001b[38;5;241m.\u001b[39m_jit_compile \u001b[38;5;28;01melse\u001b[39;00m \u001b[38;5;124m\"\u001b[39m\u001b[38;5;124mnonXla\u001b[39m\u001b[38;5;124m\"\u001b[39m\n\u001b[0;32m    914\u001b[0m \u001b[38;5;28;01mwith\u001b[39;00m OptionalXlaContext(\u001b[38;5;28mself\u001b[39m\u001b[38;5;241m.\u001b[39m_jit_compile):\n\u001b[1;32m--> 915\u001b[0m   result \u001b[38;5;241m=\u001b[39m \u001b[38;5;28mself\u001b[39m\u001b[38;5;241m.\u001b[39m_call(\u001b[38;5;241m*\u001b[39margs, \u001b[38;5;241m*\u001b[39m\u001b[38;5;241m*\u001b[39mkwds)\n\u001b[0;32m    917\u001b[0m new_tracing_count \u001b[38;5;241m=\u001b[39m \u001b[38;5;28mself\u001b[39m\u001b[38;5;241m.\u001b[39mexperimental_get_tracing_count()\n\u001b[0;32m    918\u001b[0m without_tracing \u001b[38;5;241m=\u001b[39m (tracing_count \u001b[38;5;241m==\u001b[39m new_tracing_count)\n",
      "File \u001b[1;32m~\\AppData\\Roaming\\Python\\Python39\\site-packages\\tensorflow\\python\\eager\\def_function.py:980\u001b[0m, in \u001b[0;36mFunction._call\u001b[1;34m(self, *args, **kwds)\u001b[0m\n\u001b[0;32m    976\u001b[0m     \u001b[38;5;28;01mpass\u001b[39;00m  \u001b[38;5;66;03m# Fall through to cond-based initialization.\u001b[39;00m\n\u001b[0;32m    977\u001b[0m   \u001b[38;5;28;01melse\u001b[39;00m:\n\u001b[0;32m    978\u001b[0m     \u001b[38;5;66;03m# Lifting succeeded, so variables are initialized and we can run the\u001b[39;00m\n\u001b[0;32m    979\u001b[0m     \u001b[38;5;66;03m# stateless function.\u001b[39;00m\n\u001b[1;32m--> 980\u001b[0m     \u001b[38;5;28;01mreturn\u001b[39;00m \u001b[38;5;28mself\u001b[39m\u001b[38;5;241m.\u001b[39m_stateless_fn(\u001b[38;5;241m*\u001b[39margs, \u001b[38;5;241m*\u001b[39m\u001b[38;5;241m*\u001b[39mkwds)\n\u001b[0;32m    981\u001b[0m \u001b[38;5;28;01melse\u001b[39;00m:\n\u001b[0;32m    982\u001b[0m   _, _, filtered_flat_args \u001b[38;5;241m=\u001b[39m (\n\u001b[0;32m    983\u001b[0m       \u001b[38;5;28mself\u001b[39m\u001b[38;5;241m.\u001b[39m_stateful_fn\u001b[38;5;241m.\u001b[39m_function_spec\u001b[38;5;241m.\u001b[39mcanonicalize_function_inputs(  \u001b[38;5;66;03m# pylint: disable=protected-access\u001b[39;00m\n\u001b[0;32m    984\u001b[0m           \u001b[38;5;241m*\u001b[39margs, \u001b[38;5;241m*\u001b[39m\u001b[38;5;241m*\u001b[39mkwds))\n",
      "File \u001b[1;32m~\\AppData\\Roaming\\Python\\Python39\\site-packages\\tensorflow\\python\\eager\\function.py:2453\u001b[0m, in \u001b[0;36mFunction.__call__\u001b[1;34m(self, *args, **kwargs)\u001b[0m\n\u001b[0;32m   2450\u001b[0m \u001b[38;5;28;01mwith\u001b[39;00m \u001b[38;5;28mself\u001b[39m\u001b[38;5;241m.\u001b[39m_lock:\n\u001b[0;32m   2451\u001b[0m   (graph_function,\n\u001b[0;32m   2452\u001b[0m    filtered_flat_args) \u001b[38;5;241m=\u001b[39m \u001b[38;5;28mself\u001b[39m\u001b[38;5;241m.\u001b[39m_maybe_define_function(args, kwargs)\n\u001b[1;32m-> 2453\u001b[0m \u001b[38;5;28;01mreturn\u001b[39;00m \u001b[43mgraph_function\u001b[49m\u001b[38;5;241;43m.\u001b[39;49m\u001b[43m_call_flat\u001b[49m\u001b[43m(\u001b[49m\n\u001b[0;32m   2454\u001b[0m \u001b[43m    \u001b[49m\u001b[43mfiltered_flat_args\u001b[49m\u001b[43m,\u001b[49m\u001b[43m \u001b[49m\u001b[43mcaptured_inputs\u001b[49m\u001b[38;5;241;43m=\u001b[39;49m\u001b[43mgraph_function\u001b[49m\u001b[38;5;241;43m.\u001b[39;49m\u001b[43mcaptured_inputs\u001b[49m\u001b[43m)\u001b[49m\n",
      "File \u001b[1;32m~\\AppData\\Roaming\\Python\\Python39\\site-packages\\tensorflow\\python\\eager\\function.py:1860\u001b[0m, in \u001b[0;36mConcreteFunction._call_flat\u001b[1;34m(self, args, captured_inputs, cancellation_manager)\u001b[0m\n\u001b[0;32m   1856\u001b[0m possible_gradient_type \u001b[38;5;241m=\u001b[39m gradients_util\u001b[38;5;241m.\u001b[39mPossibleTapeGradientTypes(args)\n\u001b[0;32m   1857\u001b[0m \u001b[38;5;28;01mif\u001b[39;00m (possible_gradient_type \u001b[38;5;241m==\u001b[39m gradients_util\u001b[38;5;241m.\u001b[39mPOSSIBLE_GRADIENT_TYPES_NONE\n\u001b[0;32m   1858\u001b[0m     \u001b[38;5;129;01mand\u001b[39;00m executing_eagerly):\n\u001b[0;32m   1859\u001b[0m   \u001b[38;5;66;03m# No tape is watching; skip to running the function.\u001b[39;00m\n\u001b[1;32m-> 1860\u001b[0m   \u001b[38;5;28;01mreturn\u001b[39;00m \u001b[38;5;28mself\u001b[39m\u001b[38;5;241m.\u001b[39m_build_call_outputs(\u001b[38;5;28;43mself\u001b[39;49m\u001b[38;5;241;43m.\u001b[39;49m\u001b[43m_inference_function\u001b[49m\u001b[38;5;241;43m.\u001b[39;49m\u001b[43mcall\u001b[49m\u001b[43m(\u001b[49m\n\u001b[0;32m   1861\u001b[0m \u001b[43m      \u001b[49m\u001b[43mctx\u001b[49m\u001b[43m,\u001b[49m\u001b[43m \u001b[49m\u001b[43margs\u001b[49m\u001b[43m,\u001b[49m\u001b[43m \u001b[49m\u001b[43mcancellation_manager\u001b[49m\u001b[38;5;241;43m=\u001b[39;49m\u001b[43mcancellation_manager\u001b[49m\u001b[43m)\u001b[49m)\n\u001b[0;32m   1862\u001b[0m forward_backward \u001b[38;5;241m=\u001b[39m \u001b[38;5;28mself\u001b[39m\u001b[38;5;241m.\u001b[39m_select_forward_and_backward_functions(\n\u001b[0;32m   1863\u001b[0m     args,\n\u001b[0;32m   1864\u001b[0m     possible_gradient_type,\n\u001b[0;32m   1865\u001b[0m     executing_eagerly)\n\u001b[0;32m   1866\u001b[0m forward_function, args_with_tangents \u001b[38;5;241m=\u001b[39m forward_backward\u001b[38;5;241m.\u001b[39mforward()\n",
      "File \u001b[1;32m~\\AppData\\Roaming\\Python\\Python39\\site-packages\\tensorflow\\python\\eager\\function.py:497\u001b[0m, in \u001b[0;36m_EagerDefinedFunction.call\u001b[1;34m(self, ctx, args, cancellation_manager)\u001b[0m\n\u001b[0;32m    495\u001b[0m \u001b[38;5;28;01mwith\u001b[39;00m _InterpolateFunctionError(\u001b[38;5;28mself\u001b[39m):\n\u001b[0;32m    496\u001b[0m   \u001b[38;5;28;01mif\u001b[39;00m cancellation_manager \u001b[38;5;129;01mis\u001b[39;00m \u001b[38;5;28;01mNone\u001b[39;00m:\n\u001b[1;32m--> 497\u001b[0m     outputs \u001b[38;5;241m=\u001b[39m \u001b[43mexecute\u001b[49m\u001b[38;5;241;43m.\u001b[39;49m\u001b[43mexecute\u001b[49m\u001b[43m(\u001b[49m\n\u001b[0;32m    498\u001b[0m \u001b[43m        \u001b[49m\u001b[38;5;28;43mstr\u001b[39;49m\u001b[43m(\u001b[49m\u001b[38;5;28;43mself\u001b[39;49m\u001b[38;5;241;43m.\u001b[39;49m\u001b[43msignature\u001b[49m\u001b[38;5;241;43m.\u001b[39;49m\u001b[43mname\u001b[49m\u001b[43m)\u001b[49m\u001b[43m,\u001b[49m\n\u001b[0;32m    499\u001b[0m \u001b[43m        \u001b[49m\u001b[43mnum_outputs\u001b[49m\u001b[38;5;241;43m=\u001b[39;49m\u001b[38;5;28;43mself\u001b[39;49m\u001b[38;5;241;43m.\u001b[39;49m\u001b[43m_num_outputs\u001b[49m\u001b[43m,\u001b[49m\n\u001b[0;32m    500\u001b[0m \u001b[43m        \u001b[49m\u001b[43minputs\u001b[49m\u001b[38;5;241;43m=\u001b[39;49m\u001b[43margs\u001b[49m\u001b[43m,\u001b[49m\n\u001b[0;32m    501\u001b[0m \u001b[43m        \u001b[49m\u001b[43mattrs\u001b[49m\u001b[38;5;241;43m=\u001b[39;49m\u001b[43mattrs\u001b[49m\u001b[43m,\u001b[49m\n\u001b[0;32m    502\u001b[0m \u001b[43m        \u001b[49m\u001b[43mctx\u001b[49m\u001b[38;5;241;43m=\u001b[39;49m\u001b[43mctx\u001b[49m\u001b[43m)\u001b[49m\n\u001b[0;32m    503\u001b[0m   \u001b[38;5;28;01melse\u001b[39;00m:\n\u001b[0;32m    504\u001b[0m     outputs \u001b[38;5;241m=\u001b[39m execute\u001b[38;5;241m.\u001b[39mexecute_with_cancellation(\n\u001b[0;32m    505\u001b[0m         \u001b[38;5;28mstr\u001b[39m(\u001b[38;5;28mself\u001b[39m\u001b[38;5;241m.\u001b[39msignature\u001b[38;5;241m.\u001b[39mname),\n\u001b[0;32m    506\u001b[0m         num_outputs\u001b[38;5;241m=\u001b[39m\u001b[38;5;28mself\u001b[39m\u001b[38;5;241m.\u001b[39m_num_outputs,\n\u001b[1;32m   (...)\u001b[0m\n\u001b[0;32m    509\u001b[0m         ctx\u001b[38;5;241m=\u001b[39mctx,\n\u001b[0;32m    510\u001b[0m         cancellation_manager\u001b[38;5;241m=\u001b[39mcancellation_manager)\n",
      "File \u001b[1;32m~\\AppData\\Roaming\\Python\\Python39\\site-packages\\tensorflow\\python\\eager\\execute.py:54\u001b[0m, in \u001b[0;36mquick_execute\u001b[1;34m(op_name, num_outputs, inputs, attrs, ctx, name)\u001b[0m\n\u001b[0;32m     52\u001b[0m \u001b[38;5;28;01mtry\u001b[39;00m:\n\u001b[0;32m     53\u001b[0m   ctx\u001b[38;5;241m.\u001b[39mensure_initialized()\n\u001b[1;32m---> 54\u001b[0m   tensors \u001b[38;5;241m=\u001b[39m \u001b[43mpywrap_tfe\u001b[49m\u001b[38;5;241;43m.\u001b[39;49m\u001b[43mTFE_Py_Execute\u001b[49m\u001b[43m(\u001b[49m\u001b[43mctx\u001b[49m\u001b[38;5;241;43m.\u001b[39;49m\u001b[43m_handle\u001b[49m\u001b[43m,\u001b[49m\u001b[43m \u001b[49m\u001b[43mdevice_name\u001b[49m\u001b[43m,\u001b[49m\u001b[43m \u001b[49m\u001b[43mop_name\u001b[49m\u001b[43m,\u001b[49m\n\u001b[0;32m     55\u001b[0m \u001b[43m                                      \u001b[49m\u001b[43minputs\u001b[49m\u001b[43m,\u001b[49m\u001b[43m \u001b[49m\u001b[43mattrs\u001b[49m\u001b[43m,\u001b[49m\u001b[43m \u001b[49m\u001b[43mnum_outputs\u001b[49m\u001b[43m)\u001b[49m\n\u001b[0;32m     56\u001b[0m \u001b[38;5;28;01mexcept\u001b[39;00m core\u001b[38;5;241m.\u001b[39m_NotOkStatusException \u001b[38;5;28;01mas\u001b[39;00m e:\n\u001b[0;32m     57\u001b[0m   \u001b[38;5;28;01mif\u001b[39;00m name \u001b[38;5;129;01mis\u001b[39;00m \u001b[38;5;129;01mnot\u001b[39;00m \u001b[38;5;28;01mNone\u001b[39;00m:\n",
      "\u001b[1;31mKeyboardInterrupt\u001b[0m: "
     ]
    }
   ],
   "source": [
    "model.fit(train, validation_data=test, epochs=2, callbacks=[checkpoint_callback, schedule_callback, example_callback])"
   ]
  },
  {
   "cell_type": "markdown",
   "metadata": {
    "id": "v8bv7j87RFLK"
   },
   "source": [
    "## 5. Make a Prediction"
   ]
  },
  {
   "cell_type": "code",
   "execution_count": 67,
   "metadata": {},
   "outputs": [
    {
     "data": {
      "text/plain": [
       "['./models\\\\checkpoint.index',\n",
       " './models\\\\__MACOSX/._checkpoint.index',\n",
       " './models\\\\checkpoint.data-00000-of-00001',\n",
       " './models\\\\__MACOSX/._checkpoint.data-00000-of-00001',\n",
       " './models\\\\checkpoint',\n",
       " './models\\\\__MACOSX/._checkpoint']"
      ]
     },
     "execution_count": 67,
     "metadata": {},
     "output_type": "execute_result"
    }
   ],
   "source": [
    "gdown.extractall('./models/checkpoint.zip')"
   ]
  },
  {
   "cell_type": "code",
   "execution_count": 72,
   "metadata": {
    "id": "WycWV3TKJ6i6"
   },
   "outputs": [
    {
     "data": {
      "text/plain": [
       "<tensorflow.python.training.tracking.util.CheckpointLoadStatus at 0x2320a00e490>"
      ]
     },
     "execution_count": 72,
     "metadata": {},
     "output_type": "execute_result"
    }
   ],
   "source": [
    "model.load_weights(\"./models\\\\checkpoint\")"
   ]
  },
  {
   "cell_type": "code",
   "execution_count": 93,
   "metadata": {
    "id": "nq_g7UZ6J5qk"
   },
   "outputs": [],
   "source": [
    "test_data = test.as_numpy_iterator()"
   ]
  },
  {
   "cell_type": "code",
   "execution_count": 94,
   "metadata": {
    "id": "Kgz2lq2OKEX-"
   },
   "outputs": [],
   "source": [
    "sample = test_data.next()"
   ]
  },
  {
   "cell_type": "code",
   "execution_count": 95,
   "metadata": {},
   "outputs": [
    {
     "name": "stdout",
     "output_type": "stream",
     "text": [
      "1/1 [==============================] - 3s 3s/step\n"
     ]
    }
   ],
   "source": [
    "yhat = model.predict(sample[0])"
   ]
  },
  {
   "cell_type": "code",
   "execution_count": 96,
   "metadata": {
    "id": "Da2AcY2RKmmn"
   },
   "outputs": [
    {
     "name": "stdout",
     "output_type": "stream",
     "text": [
      "~~~~~~~~~~~~~~~~~~~~~~~~~~~~~~~~~~~~~~~~ REAL TEXT ~~~~~~~~~~~~~~~~~~~~~~~~~~~~~~~~~~~~~~~~\n"
     ]
    },
    {
     "data": {
      "text/plain": [
       "[<tf.Tensor: shape=(), dtype=string, numpy=b'bin blue with t one again'>,\n",
       " <tf.Tensor: shape=(), dtype=string, numpy=b'bin blue at z five soon'>]"
      ]
     },
     "execution_count": 96,
     "metadata": {},
     "output_type": "execute_result"
    }
   ],
   "source": [
    "print( '~'*40, 'REAL TEXT','~'*40)\n",
    "[tf.strings.reduce_join([num_to_char(word) for word in sentence]) for sentence in sample[1]]"
   ]
  },
  {
   "cell_type": "code",
   "execution_count": 97,
   "metadata": {
    "id": "Qt9X9KbUKmpQ"
   },
   "outputs": [],
   "source": [
    "decoded = tf.keras.backend.ctc_decode(yhat, input_length=[75,75], greedy=True)[0][0].numpy()"
   ]
  },
  {
   "cell_type": "code",
   "execution_count": 98,
   "metadata": {
    "id": "dvjGxzwtKmr2"
   },
   "outputs": [
    {
     "name": "stdout",
     "output_type": "stream",
     "text": [
      "~~~~~~~~~~~~~~~~~~~~~~~~~~~~~~~~~~~~~~~~ PREDICTIONS ~~~~~~~~~~~~~~~~~~~~~~~~~~~~~~~~~~~~~~~~\n"
     ]
    },
    {
     "data": {
      "text/plain": [
       "[<tf.Tensor: shape=(), dtype=string, numpy=b'bin blue with t one again'>,\n",
       " <tf.Tensor: shape=(), dtype=string, numpy=b'bin blue at z five soon'>]"
      ]
     },
     "execution_count": 98,
     "metadata": {},
     "output_type": "execute_result"
    }
   ],
   "source": [
    "print( '~'*40, 'PREDICTIONS','~'*40)\n",
    "[tf.strings.reduce_join([num_to_char(word) for word in sentence]) for sentence in decoded]"
   ]
  },
  {
   "cell_type": "markdown",
   "metadata": {
    "id": "8YZLzW8SKwpL"
   },
   "source": [
    "## 6. Testing on sample video"
   ]
  },
  {
   "cell_type": "code",
   "execution_count": 84,
   "metadata": {
    "id": "HpXxlaliKmuZ"
   },
   "outputs": [],
   "source": [
    "sample = load_data(tf.convert_to_tensor('.\\\\data\\\\s1\\\\bras9a.mpg'))"
   ]
  },
  {
   "cell_type": "code",
   "execution_count": 85,
   "metadata": {
    "id": "xiXPTAR0KuUC"
   },
   "outputs": [
    {
     "name": "stdout",
     "output_type": "stream",
     "text": [
      "~~~~~~~~~~~~~~~~~~~~~~~~~~~~~~~~~~~~~~~~~~~~~~~~~~~~~~~~~~~~~~~~~~~~~~~~~~~~~~~~~~~~~~~~~~~~~~~~~~~~ REAL TEXT\n"
     ]
    },
    {
     "data": {
      "text/plain": [
       "[<tf.Tensor: shape=(), dtype=string, numpy=b'bin red at s nine again'>]"
      ]
     },
     "execution_count": 85,
     "metadata": {},
     "output_type": "execute_result"
    }
   ],
   "source": [
    "print('~'*100, 'REAL TEXT')\n",
    "[tf.strings.reduce_join([num_to_char(word) for word in sentence]) for sentence in [sample[1]]]"
   ]
  },
  {
   "cell_type": "code",
   "execution_count": 86,
   "metadata": {
    "id": "BC17v64-KuyK"
   },
   "outputs": [
    {
     "name": "stdout",
     "output_type": "stream",
     "text": [
      "1/1 [==============================] - 3s 3s/step\n"
     ]
    }
   ],
   "source": [
    "yhat = model.predict(tf.expand_dims(sample[0], axis=0))"
   ]
  },
  {
   "cell_type": "code",
   "execution_count": 87,
   "metadata": {
    "id": "6AiaPGygKu4w"
   },
   "outputs": [],
   "source": [
    "decoded = tf.keras.backend.ctc_decode(yhat, input_length=[75], greedy=True)[0][0].numpy()"
   ]
  },
  {
   "cell_type": "code",
   "execution_count": 89,
   "metadata": {
    "id": "w43C51ftKmwf"
   },
   "outputs": [
    {
     "name": "stdout",
     "output_type": "stream",
     "text": [
      "~~~~~~~~~~~~~~~~~~~~~~~~~~~~~~~~~~~~~~~~~~~~~~~~~~~~~~~~~~~~~~~~~~~~~~~~~~~~~~~~~~~~~~~~~~~~~~~~~~~~ PREDICTIONS\n"
     ]
    },
    {
     "data": {
      "text/plain": [
       "[<tf.Tensor: shape=(), dtype=string, numpy=b'bin red at s nine again'>]"
      ]
     },
     "execution_count": 89,
     "metadata": {},
     "output_type": "execute_result"
    }
   ],
   "source": [
    "print('~'*100, 'PREDICTIONS')\n",
    "[tf.strings.reduce_join([num_to_char(word) for word in sentence]) for sentence in decoded]"
   ]
  },
  {
   "cell_type": "code",
   "execution_count": null,
   "metadata": {
    "id": "cJynjQcpKm-t"
   },
   "outputs": [],
   "source": []
  }
 ],
 "metadata": {
  "colab": {
   "provenance": []
  },
  "kernelspec": {
   "display_name": "Python 3 (ipykernel)",
   "language": "python",
   "name": "python3"
  },
  "language_info": {
   "codemirror_mode": {
    "name": "ipython",
    "version": 3
   },
   "file_extension": ".py",
   "mimetype": "text/x-python",
   "name": "python",
   "nbconvert_exporter": "python",
   "pygments_lexer": "ipython3",
   "version": "3.9.16"
  }
 },
 "nbformat": 4,
 "nbformat_minor": 1
}
